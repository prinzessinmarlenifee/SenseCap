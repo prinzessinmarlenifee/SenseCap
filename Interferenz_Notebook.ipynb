{
  "nbformat": 4,
  "nbformat_minor": 0,
  "metadata": {
    "colab": {
      "provenance": [],
      "authorship_tag": "ABX9TyMq9z6bvynAbz3GEhfKt6tv",
      "include_colab_link": true
    },
    "kernelspec": {
      "name": "python3",
      "display_name": "Python 3"
    },
    "language_info": {
      "name": "python"
    }
  },
  "cells": [
    {
      "cell_type": "markdown",
      "metadata": {
        "id": "view-in-github",
        "colab_type": "text"
      },
      "source": [
        "<a href=\"https://colab.research.google.com/github/prinzessinmarlenifee/SenseCap/blob/main/Interferenz_Notebook.ipynb\" target=\"_parent\"><img src=\"https://colab.research.google.com/assets/colab-badge.svg\" alt=\"Open In Colab\"/></a>"
      ]
    },
    {
      "cell_type": "code",
      "execution_count": 1,
      "metadata": {
        "colab": {
          "base_uri": "https://localhost:8080/",
          "height": 388
        },
        "id": "qDdsNaZrPjVm",
        "outputId": "25c04c89-56a8-4630-b819-c39116138c5e"
      },
      "outputs": [
        {
          "output_type": "error",
          "ename": "ModuleNotFoundError",
          "evalue": "No module named 'colab'",
          "traceback": [
            "\u001b[0;31m---------------------------------------------------------------------------\u001b[0m",
            "\u001b[0;31mModuleNotFoundError\u001b[0m                       Traceback (most recent call last)",
            "\u001b[0;32m<ipython-input-1-9ae50f25cb9d>\u001b[0m in \u001b[0;36m<cell line: 0>\u001b[0;34m()\u001b[0m\n\u001b[1;32m      8\u001b[0m \u001b[0;32mfrom\u001b[0m \u001b[0mtensorflow\u001b[0m\u001b[0;34m.\u001b[0m\u001b[0mkeras\u001b[0m\u001b[0;34m.\u001b[0m\u001b[0mmodels\u001b[0m \u001b[0;32mimport\u001b[0m \u001b[0mload_model\u001b[0m\u001b[0;34m\u001b[0m\u001b[0;34m\u001b[0m\u001b[0m\n\u001b[1;32m      9\u001b[0m \u001b[0;34m\u001b[0m\u001b[0m\n\u001b[0;32m---> 10\u001b[0;31m \u001b[0;32mfrom\u001b[0m \u001b[0mcolab\u001b[0m \u001b[0;32mimport\u001b[0m \u001b[0mdrive\u001b[0m\u001b[0;34m\u001b[0m\u001b[0;34m\u001b[0m\u001b[0m\n\u001b[0m\u001b[1;32m     11\u001b[0m \u001b[0mdrive\u001b[0m\u001b[0;34m.\u001b[0m\u001b[0mmount\u001b[0m\u001b[0;34m(\u001b[0m\u001b[0;34m'/content/drive'\u001b[0m\u001b[0;34m)\u001b[0m\u001b[0;34m\u001b[0m\u001b[0;34m\u001b[0m\u001b[0m\n\u001b[1;32m     12\u001b[0m \u001b[0;34m\u001b[0m\u001b[0m\n",
            "\u001b[0;31mModuleNotFoundError\u001b[0m: No module named 'colab'",
            "",
            "\u001b[0;31m---------------------------------------------------------------------------\u001b[0;32m\nNOTE: If your import is failing due to a missing package, you can\nmanually install dependencies using either !pip or !apt.\n\nTo view examples of installing some common dependencies, click the\n\"Open Examples\" button below.\n\u001b[0;31m---------------------------------------------------------------------------\u001b[0m\n"
          ],
          "errorDetails": {
            "actions": [
              {
                "action": "open_url",
                "actionText": "Open Examples",
                "url": "/notebooks/snippets/importing_libraries.ipynb"
              }
            ]
          }
        }
      ],
      "source": [
        "# 📊 Vergleichs-Notebook – Augmentierung vs. Original & Modell-Vergleich\n",
        "\n",
        "import os\n",
        "import numpy as np\n",
        "import pandas as pd\n",
        "import matplotlib.pyplot as plt\n",
        "from sklearn.metrics import classification_report, confusion_matrix, ConfusionMatrixDisplay\n",
        "from tensorflow.keras.models import load_model\n",
        "\n",
        "from google.colab import drive\n",
        "drive.mount('/content/drive')\n",
        "\n",
        "# 🔁 Verschiedene Modelle laden\n",
        "o_model_path = \"/content/drive/MyDrive/mtb_project/final_models_global/global_final_original.keras\"\n",
        "a_model_path = \"/content/drive/MyDrive/mtb_project/final_models_global/global_final_augmented.keras\"\n",
        "\n",
        "model_o = load_model(o_model_path)\n",
        "model_a = load_model(a_model_path)\n",
        "\n",
        "# 📦 Validierungsdaten laden (ohne & mit Augmentierung)\n",
        "# Hier als Beispiel – ersetze durch tatsächliche Datenpfade\n",
        "X_val_o = np.load(\"/content/drive/MyDrive/mtb_project/data/X_val_original.npy\")\n",
        "y_val_o = np.load(\"/content/drive/MyDrive/mtb_project/data/y_val_original.npy\")\n",
        "\n",
        "X_val_a = np.load(\"/content/drive/MyDrive/mtb_project/data/X_val_augmented.npy\")\n",
        "y_val_a = np.load(\"/content/drive/MyDrive/mtb_project/data/y_val_augmented.npy\")\n",
        "\n",
        "# 📈 Modell Original (ohne Augmentierung)\n",
        "y_pred_o = (model_o.predict(X_val_o) >= 0.5).astype(int).flatten()\n",
        "print(\"\\n🔍 Ohne Augmentierung\")\n",
        "print(classification_report(y_val_o, y_pred_o, target_names=[\"Not Action\", \"Action\"]))\n",
        "\n",
        "# 📈 Modell Augmentiert\n",
        "y_pred_a = (model_a.predict(X_val_a) >= 0.5).astype(int).flatten()\n",
        "print(\"\\n🧪 Mit Augmentierung\")\n",
        "print(classification_report(y_val_a, y_pred_a, target_names=[\"Not Action\", \"Action\"]))\n",
        "\n",
        "# 🔍 Vergleich nebeneinander (optional visualisieren)\n",
        "fig, axs = plt.subplots(1, 2, figsize=(12, 5))\n",
        "cm_o = confusion_matrix(y_val_o, y_pred_o)\n",
        "cm_a = confusion_matrix(y_val_a, y_pred_a)\n",
        "\n",
        "ConfusionMatrixDisplay(cm_o, display_labels=[\"Not Action\", \"Action\"]).plot(ax=axs[0], cmap=\"Blues\")\n",
        "axs[0].set_title(\"Ohne Augmentierung\")\n",
        "\n",
        "ConfusionMatrixDisplay(cm_a, display_labels=[\"Not Action\", \"Action\"]).plot(ax=axs[1], cmap=\"Greens\")\n",
        "axs[1].set_title(\"Mit Augmentierung\")\n",
        "\n",
        "plt.tight_layout()\n",
        "plt.show()\n",
        "\n",
        "# 📊 Optional: weitere Modelle vergleichen (z. B. andere Architekturen)\n",
        "# Einfach weitere Modelle laden und ergänzen wie oben\n"
      ]
    }
  ]
}