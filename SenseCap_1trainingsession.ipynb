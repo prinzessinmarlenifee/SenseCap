{
  "nbformat": 4,
  "nbformat_minor": 0,
  "metadata": {
    "colab": {
      "provenance": [],
      "authorship_tag": "ABX9TyPh63K3QAmJ/0N1IPJONPaX",
      "include_colab_link": true
    },
    "kernelspec": {
      "name": "python3",
      "display_name": "Python 3"
    },
    "language_info": {
      "name": "python"
    }
  },
  "cells": [
    {
      "cell_type": "markdown",
      "metadata": {
        "id": "view-in-github",
        "colab_type": "text"
      },
      "source": [
        "<a href=\"https://colab.research.google.com/github/prinzessinmarlenifee/SenseCap/blob/main/SenseCap_1trainingsession.ipynb\" target=\"_parent\"><img src=\"https://colab.research.google.com/assets/colab-badge.svg\" alt=\"Open In Colab\"/></a>"
      ]
    },
    {
      "cell_type": "markdown",
      "source": [
        "📋 Projekt-Ziel (bisher):\n",
        "\n",
        "Wir haben ein Machine-Learning-Modell gebaut, das Mountainbike-IMU-Daten automatisch klassifiziert, z. B. in „Jumping“, „Pedaling“, „Resting“ usw.\n",
        "Dafür haben wir:\n",
        "\n",
        "    Label-Zeitstempel aus einer .json extrahiert\n",
        "\n",
        "    Ein Label für jeden Frame erzeugt\n",
        "\n",
        "    Die IMU-Daten in Fenster aufgeteilt\n",
        "\n",
        "    Jedem Fenster ein Label zugewiesen\n",
        "\n",
        "    Ein CNN+LSTM-Modell trainiert\n",
        "\n",
        "    Die Test Accuracy und echte Vorhersagen ausgewertet"
      ],
      "metadata": {
        "id": "gD3qtwsuZKlc"
      }
    },
    {
      "cell_type": "code",
      "source": [
        "#mount google drive\n",
        "\n",
        "from google.colab import drive\n",
        "drive.mount('/content/drive')"
      ],
      "metadata": {
        "colab": {
          "base_uri": "https://localhost:8080/"
        },
        "id": "Ine4xWxJKqJk",
        "outputId": "20ab7834-b539-4273-d799-3ee501846cb1"
      },
      "execution_count": 1,
      "outputs": [
        {
          "output_type": "stream",
          "name": "stdout",
          "text": [
            "Mounted at /content/drive\n"
          ]
        }
      ]
    },
    {
      "cell_type": "code",
      "execution_count": 2,
      "metadata": {
        "colab": {
          "base_uri": "https://localhost:8080/"
        },
        "id": "gyLe94qdbnIT",
        "outputId": "bd9e27b6-adb1-4c7b-a3e1-1a05a484d4a4"
      },
      "outputs": [
        {
          "output_type": "stream",
          "name": "stdout",
          "text": [
            "Beispiel-Labels: ['Action', 'Action', 'Action', 'Action', 'Action', 'Action', 'Action', 'Action', 'Action', 'Action', 'Action', 'Action', 'Action', 'Action', 'Action', 'Action', 'Action', 'Action', 'Action', 'Action']\n",
            "Label-Verteilung: Counter({'Action': 85738, 'Peadling': 3979, 'Resting': 2554, 'Unknown': 129})\n"
          ]
        }
      ],
      "source": [
        "import json\n",
        "\n",
        "# 1. JSON laden\n",
        "with open('/content/drive/MyDrive/ML-MTB-Modell/Labeled/0713_0833_hot.json', 'r') as f:\n",
        "    hot_data = json.load(f)\n",
        "\n",
        "# 2. Labels parsen\n",
        "button_press_str = hot_data['button_presses']\n",
        "entries = button_press_str.strip().split(';')\n",
        "\n",
        "label_changes = []\n",
        "for entry in entries:\n",
        "    if ':' in entry:\n",
        "        label, frame = entry.strip().split(':')\n",
        "        label_changes.append((int(frame.strip()), label.strip()))\n",
        "\n",
        "# 3. Samplingrate anpassen\n",
        "sampling_rate = 22  # ← wichtig: nicht 100 Hz!\n",
        "total_seconds = 4200  # z. B. 70 min\n",
        "total_frames = int(total_seconds * sampling_rate)\n",
        "\n",
        "# 4. Frame-Array vorbereiten\n",
        "frame_labels = ['Unknown'] * total_frames\n",
        "\n",
        "for i, (start_frame, label) in enumerate(label_changes):\n",
        "    end_frame = label_changes[i + 1][0] if i + 1 < len(label_changes) else total_frames\n",
        "    for f in range(start_frame, min(end_frame, total_frames)):\n",
        "        frame_labels[f] = label\n",
        "\n",
        "# 5. Kontrolle\n",
        "from collections import Counter\n",
        "print(\"Beispiel-Labels:\", frame_labels[10000:10020])\n",
        "print(\"Label-Verteilung:\", Counter(frame_labels))\n"
      ]
    },
    {
      "cell_type": "markdown",
      "source": [
        "🧠 Code-Erklärung\n",
        "\n",
        "with open('0713_0833_hot.json', 'r') as f:\n",
        "    hot_data = json.load(f)\n",
        "\n",
        "🔹 Lädt die JSON-Datei mit den Zeitpunkten, an denen ein neuer Zustand beginnt (z. B. \"Resting: 129\").\n",
        "\n",
        "button_press_str = hot_data['button_presses']\n",
        "entries = button_press_str.strip().split(';')\n",
        "\n",
        "🔹 Holt die \"button_presses\"-Zeile aus dem JSON\n",
        "🔹 Teilt sie bei jedem ; in einzelne \"Label: Frame\"-Paare\n",
        "\n",
        "label_changes = []\n",
        "for entry in entries:\n",
        "    if ':' in entry:\n",
        "        label, frame = entry.strip().split(':')\n",
        "        label_changes.append((int(frame.strip()), label.strip()))\n",
        "\n",
        "🔹 Macht aus \"Resting: 129\" ein Tupel wie (129, \"Resting\")\n",
        "🔹 Entfernt Leerzeichen, wandelt frame in int\n",
        "\n",
        "sampling_rate = 22\n",
        "total_seconds = 4200\n",
        "total_frames = int(total_seconds * sampling_rate)\n",
        "frame_labels = ['Unknown'] * total_frames\n",
        "\n",
        "🔹 Rechnet aus, wie viele Frames du hast: 22 Hz × 4.200 Sek = 92.400 Frames\n",
        "🔹 Erzeugt eine Liste mit \"Unknown\" als Platzhalter für jedes Frame\n",
        "\n",
        "for i, (start_frame, label) in enumerate(label_changes):\n",
        "    end_frame = label_changes[i + 1][0] if i + 1 < len(label_changes) else total_frames\n",
        "    for f in range(start_frame, min(end_frame, total_frames)):\n",
        "        frame_labels[f] = label\n",
        "\n",
        "🔹 Für jedes Label-Zeitintervall schreibt es das passende Label in die frame_labels-Liste\n",
        "🔹 So bekommt jeder Frame ein Label\n",
        "\n",
        "from collections import Counter\n",
        "print(\"Beispiel-Labels:\", frame_labels[10000:10020])\n",
        "print(\"Label-Verteilung:\", Counter(frame_labels))\n",
        "\n",
        "🔹 Zeigt dir ein paar Beispiel-Labels und wie oft jedes Label vorkommt\n"
      ],
      "metadata": {
        "id": "tr9idPKZNFPS"
      }
    },
    {
      "cell_type": "code",
      "source": [
        "import numpy as np\n",
        "from collections import Counter\n",
        "\n",
        "# Parameter\n",
        "window_size = 22  # 1 Sekunde bei 22 Hz\n",
        "stride = 22       # ohne Overlap, sonst z. B. 11 für 50% Overlap\n",
        "\n",
        "# Beispiel: Dummy-IMU-Daten (ersetzen durch echte!)\n",
        "# imu_data = np.random.randn(len(frame_labels), 6)  # z. B. 6 Achsen: ax, ay, az, gx, gy, gz\n",
        "# oder lade deine echten IMU-Daten hier rein\n",
        "\n",
        "# Fenster + Label erstellen\n",
        "windowed_data = []\n",
        "windowed_labels = []\n",
        "\n",
        "for start in range(0, len(frame_labels) - window_size + 1, stride):\n",
        "    end = start + window_size\n",
        "    window_labels = frame_labels[start:end]\n",
        "    most_common_label = Counter(window_labels).most_common(1)[0][0]\n",
        "\n",
        "    # imu_window = imu_data[start:end]  # wenn du echte Daten hast\n",
        "    # windowed_data.append(imu_window)\n",
        "    windowed_labels.append(most_common_label)\n",
        "\n",
        "# Kontrolle\n",
        "print(\"Anzahl Fenster:\", len(windowed_labels))\n",
        "print(\"Label-Verteilung (Fenster):\", Counter(windowed_labels))\n"
      ],
      "metadata": {
        "colab": {
          "base_uri": "https://localhost:8080/"
        },
        "id": "GVAjLO3YKoFj",
        "outputId": "1917668c-c77e-4ffb-b994-c3104bed483e"
      },
      "execution_count": 3,
      "outputs": [
        {
          "output_type": "stream",
          "name": "stdout",
          "text": [
            "Anzahl Fenster: 4200\n",
            "Label-Verteilung (Fenster): Counter({'Action': 3897, 'Peadling': 181, 'Resting': 116, 'Unknown': 6})\n"
          ]
        }
      ]
    },
    {
      "cell_type": "code",
      "source": [
        "#Fensterbildung und Labelbildung\n",
        "\n",
        "import numpy as np\n",
        "from collections import Counter\n",
        "\n",
        "# Parameter\n",
        "window_size = 22  # 1 Sekunde bei 22 Hz\n",
        "stride = 22       # ohne Overlap, sonst z. B. 11 für 50% Overlap\n",
        "\n",
        "# Beispiel: Dummy-IMU-Daten (ersetzen durch echte!)\n",
        "# imu_data = np.random.randn(len(frame_labels), 6)  # z. B. 6 Achsen: ax, ay, az, gx, gy, gz\n",
        "# oder lade deine echten IMU-Daten hier rein\n",
        "\n",
        "# Fenster + Label erstellen\n",
        "windowed_data = []\n",
        "windowed_labels = []\n",
        "\n",
        "for start in range(0, len(frame_labels) - window_size + 1, stride):\n",
        "    end = start + window_size\n",
        "    window_labels = frame_labels[start:end]\n",
        "    most_common_label = Counter(window_labels).most_common(1)[0][0]\n",
        "\n",
        "    # imu_window = imu_data[start:end]  # wenn du echte Daten hast\n",
        "    # windowed_data.append(imu_window)\n",
        "    windowed_labels.append(most_common_label)\n",
        "\n",
        "# Kontrolle\n",
        "print(\"Anzahl Fenster:\", len(windowed_labels))\n",
        "print(\"Label-Verteilung (Fenster):\", Counter(windowed_labels))\n"
      ],
      "metadata": {
        "colab": {
          "base_uri": "https://localhost:8080/"
        },
        "id": "-oSHYSaASUvA",
        "outputId": "f213537a-756d-41c5-986b-df2d810615b2"
      },
      "execution_count": 4,
      "outputs": [
        {
          "output_type": "stream",
          "name": "stdout",
          "text": [
            "Anzahl Fenster: 4200\n",
            "Label-Verteilung (Fenster): Counter({'Action': 3897, 'Peadling': 181, 'Resting': 116, 'Unknown': 6})\n"
          ]
        }
      ]
    },
    {
      "cell_type": "code",
      "source": [
        "import numpy as np\n",
        "from collections import Counter\n",
        "\n",
        "# Beispiel: IMU-Daten-Array (dummy – hier musst du dein echtes IMU-Array nehmen!)\n",
        "# Angenommen: imu_data.shape = (92839, 6) → [acc_x, acc_y, acc_z, gyro_x, gyro_y, gyro_z]\n",
        "imu_data = np.random.randn(92839, 6)  # ← Ersetze das durch deine echten Daten!\n",
        "\n",
        "# Parameter\n",
        "window_size = 22        # 1 Sekunde bei 22 Hz\n",
        "step_size = 11          # 50 % Überlappung (optional)\n",
        "num_samples = len(frame_labels)\n",
        "\n",
        "X_windowed = []\n",
        "y_windowed = []\n",
        "\n",
        "for start in range(0, num_samples - window_size + 1, step_size):\n",
        "    end = start + window_size\n",
        "\n",
        "    window = imu_data[start:end]\n",
        "    label_window = frame_labels[start:end]\n",
        "\n",
        "    # Häufigstes Label im Fenster\n",
        "    label_counts = Counter(label_window)\n",
        "    dominant_label = label_counts.most_common(1)[0][0]\n",
        "\n",
        "    # Optional: Unklare Fenster überspringen\n",
        "    if dominant_label == 'Unknown':\n",
        "        continue\n",
        "\n",
        "    X_windowed.append(window)\n",
        "    y_windowed.append(dominant_label)\n",
        "\n",
        "X_windowed = np.array(X_windowed)\n",
        "y_windowed = np.array(y_windowed)\n",
        "\n",
        "print(\"Fenstergröße:\", X_windowed.shape)\n",
        "print(\"Beispielfenster Label:\", y_windowed[:5])\n"
      ],
      "metadata": {
        "colab": {
          "base_uri": "https://localhost:8080/"
        },
        "id": "kFXp_ebuV0hZ",
        "outputId": "b6a3a6fe-c3b0-417f-aeb5-b888c1508da5"
      },
      "execution_count": 5,
      "outputs": [
        {
          "output_type": "stream",
          "name": "stdout",
          "text": [
            "Fenstergröße: (8388, 22, 6)\n",
            "Beispielfenster Label: ['Resting' 'Resting' 'Resting' 'Resting' 'Resting']\n"
          ]
        }
      ]
    },
    {
      "cell_type": "code",
      "source": [
        "#label encoder:\n",
        "\n",
        "from sklearn.preprocessing import LabelEncoder\n",
        "\n",
        "# Schritt 1: LabelEncoder vorbereiten\n",
        "le = LabelEncoder()\n",
        "y_encoded = le.fit_transform(y_windowed)\n",
        "\n",
        "# Beispiel\n",
        "print(\"Original Labels:\", y_windowed[:5])\n",
        "print(\"Integer Labels:\", y_encoded[:5])\n",
        "print(\"Klassen:\", le.classes_)\n"
      ],
      "metadata": {
        "colab": {
          "base_uri": "https://localhost:8080/"
        },
        "id": "IoIaWDOGWLi1",
        "outputId": "4e7ae523-e0cb-449e-8b97-05e340fba02c"
      },
      "execution_count": 6,
      "outputs": [
        {
          "output_type": "stream",
          "name": "stdout",
          "text": [
            "Original Labels: ['Resting' 'Resting' 'Resting' 'Resting' 'Resting']\n",
            "Integer Labels: [2 2 2 2 2]\n",
            "Klassen: ['Action' 'Peadling' 'Resting']\n"
          ]
        }
      ]
    },
    {
      "cell_type": "code",
      "source": [
        "\n",
        "#teilen in training und test daten\n",
        "\n",
        "\n",
        "from sklearn.model_selection import train_test_split\n",
        "\n",
        "X_train, X_test, y_train, y_test = train_test_split(\n",
        "    X_windowed, y_encoded, test_size=0.2, random_state=42, stratify=y_encoded\n",
        ")\n",
        "\n",
        "print(\"Train:\", X_train.shape, \"Test:\", X_test.shape)\n"
      ],
      "metadata": {
        "colab": {
          "base_uri": "https://localhost:8080/"
        },
        "id": "QFddtH5pWa-o",
        "outputId": "38cac0cf-2a19-4487-873e-08d4fbc0d4c1"
      },
      "execution_count": 7,
      "outputs": [
        {
          "output_type": "stream",
          "name": "stdout",
          "text": [
            "Train: (6710, 22, 6) Test: (1678, 22, 6)\n"
          ]
        }
      ]
    },
    {
      "cell_type": "markdown",
      "source": [
        " Warum CNN + LSTM? ⚛\n",
        "\n",
        "    CNN-Teil lernt lokale Muster (z. B. typische Bewegungen in kurzen Abschnitten)\n",
        "\n",
        "    LSTM-Teil erkennt zeitliche Abläufe über das ganze Fenster hinweg"
      ],
      "metadata": {
        "id": "_vm4HvtBWuzs"
      }
    },
    {
      "cell_type": "code",
      "source": [
        "import tensorflow as tf\n",
        "from tensorflow.keras import layers, models\n",
        "\n",
        "input_shape = X_train.shape[1:]  # z. B. (22, 6)\n",
        "\n",
        "model = models.Sequential([\n",
        "    layers.Conv1D(64, kernel_size=3, activation='relu', input_shape=input_shape),\n",
        "    layers.Conv1D(64, kernel_size=3, activation='relu'),\n",
        "    layers.MaxPooling1D(pool_size=2),\n",
        "    layers.Dropout(0.3),\n",
        "\n",
        "    layers.LSTM(64, return_sequences=False),\n",
        "    layers.Dropout(0.3),\n",
        "\n",
        "    layers.Dense(100, activation='relu'),\n",
        "    layers.Dense(len(np.unique(y_train)), activation='softmax')  # oder y_onehot.shape[1] wenn One-Hot\n",
        "])\n",
        "\n",
        "model.compile(optimizer='adam',\n",
        "              loss='sparse_categorical_crossentropy',  # falls du y_encoded nutzt\n",
        "              metrics=['accuracy'])\n",
        "\n",
        "model.summary()\n"
      ],
      "metadata": {
        "colab": {
          "base_uri": "https://localhost:8080/",
          "height": 455
        },
        "id": "J7jzlfIDW1mT",
        "outputId": "e9982096-a35a-41fa-99b1-92132b16fec3"
      },
      "execution_count": 8,
      "outputs": [
        {
          "output_type": "stream",
          "name": "stderr",
          "text": [
            "/usr/local/lib/python3.11/dist-packages/keras/src/layers/convolutional/base_conv.py:107: UserWarning: Do not pass an `input_shape`/`input_dim` argument to a layer. When using Sequential models, prefer using an `Input(shape)` object as the first layer in the model instead.\n",
            "  super().__init__(activity_regularizer=activity_regularizer, **kwargs)\n"
          ]
        },
        {
          "output_type": "display_data",
          "data": {
            "text/plain": [
              "\u001b[1mModel: \"sequential\"\u001b[0m\n"
            ],
            "text/html": [
              "<pre style=\"white-space:pre;overflow-x:auto;line-height:normal;font-family:Menlo,'DejaVu Sans Mono',consolas,'Courier New',monospace\"><span style=\"font-weight: bold\">Model: \"sequential\"</span>\n",
              "</pre>\n"
            ]
          },
          "metadata": {}
        },
        {
          "output_type": "display_data",
          "data": {
            "text/plain": [
              "┏━━━━━━━━━━━━━━━━━━━━━━━━━━━━━━━━━┳━━━━━━━━━━━━━━━━━━━━━━━━┳━━━━━━━━━━━━━━━┓\n",
              "┃\u001b[1m \u001b[0m\u001b[1mLayer (type)                   \u001b[0m\u001b[1m \u001b[0m┃\u001b[1m \u001b[0m\u001b[1mOutput Shape          \u001b[0m\u001b[1m \u001b[0m┃\u001b[1m \u001b[0m\u001b[1m      Param #\u001b[0m\u001b[1m \u001b[0m┃\n",
              "┡━━━━━━━━━━━━━━━━━━━━━━━━━━━━━━━━━╇━━━━━━━━━━━━━━━━━━━━━━━━╇━━━━━━━━━━━━━━━┩\n",
              "│ conv1d (\u001b[38;5;33mConv1D\u001b[0m)                 │ (\u001b[38;5;45mNone\u001b[0m, \u001b[38;5;34m20\u001b[0m, \u001b[38;5;34m64\u001b[0m)         │         \u001b[38;5;34m1,216\u001b[0m │\n",
              "├─────────────────────────────────┼────────────────────────┼───────────────┤\n",
              "│ conv1d_1 (\u001b[38;5;33mConv1D\u001b[0m)               │ (\u001b[38;5;45mNone\u001b[0m, \u001b[38;5;34m18\u001b[0m, \u001b[38;5;34m64\u001b[0m)         │        \u001b[38;5;34m12,352\u001b[0m │\n",
              "├─────────────────────────────────┼────────────────────────┼───────────────┤\n",
              "│ max_pooling1d (\u001b[38;5;33mMaxPooling1D\u001b[0m)    │ (\u001b[38;5;45mNone\u001b[0m, \u001b[38;5;34m9\u001b[0m, \u001b[38;5;34m64\u001b[0m)          │             \u001b[38;5;34m0\u001b[0m │\n",
              "├─────────────────────────────────┼────────────────────────┼───────────────┤\n",
              "│ dropout (\u001b[38;5;33mDropout\u001b[0m)               │ (\u001b[38;5;45mNone\u001b[0m, \u001b[38;5;34m9\u001b[0m, \u001b[38;5;34m64\u001b[0m)          │             \u001b[38;5;34m0\u001b[0m │\n",
              "├─────────────────────────────────┼────────────────────────┼───────────────┤\n",
              "│ lstm (\u001b[38;5;33mLSTM\u001b[0m)                     │ (\u001b[38;5;45mNone\u001b[0m, \u001b[38;5;34m64\u001b[0m)             │        \u001b[38;5;34m33,024\u001b[0m │\n",
              "├─────────────────────────────────┼────────────────────────┼───────────────┤\n",
              "│ dropout_1 (\u001b[38;5;33mDropout\u001b[0m)             │ (\u001b[38;5;45mNone\u001b[0m, \u001b[38;5;34m64\u001b[0m)             │             \u001b[38;5;34m0\u001b[0m │\n",
              "├─────────────────────────────────┼────────────────────────┼───────────────┤\n",
              "│ dense (\u001b[38;5;33mDense\u001b[0m)                   │ (\u001b[38;5;45mNone\u001b[0m, \u001b[38;5;34m100\u001b[0m)            │         \u001b[38;5;34m6,500\u001b[0m │\n",
              "├─────────────────────────────────┼────────────────────────┼───────────────┤\n",
              "│ dense_1 (\u001b[38;5;33mDense\u001b[0m)                 │ (\u001b[38;5;45mNone\u001b[0m, \u001b[38;5;34m3\u001b[0m)              │           \u001b[38;5;34m303\u001b[0m │\n",
              "└─────────────────────────────────┴────────────────────────┴───────────────┘\n"
            ],
            "text/html": [
              "<pre style=\"white-space:pre;overflow-x:auto;line-height:normal;font-family:Menlo,'DejaVu Sans Mono',consolas,'Courier New',monospace\">┏━━━━━━━━━━━━━━━━━━━━━━━━━━━━━━━━━┳━━━━━━━━━━━━━━━━━━━━━━━━┳━━━━━━━━━━━━━━━┓\n",
              "┃<span style=\"font-weight: bold\"> Layer (type)                    </span>┃<span style=\"font-weight: bold\"> Output Shape           </span>┃<span style=\"font-weight: bold\">       Param # </span>┃\n",
              "┡━━━━━━━━━━━━━━━━━━━━━━━━━━━━━━━━━╇━━━━━━━━━━━━━━━━━━━━━━━━╇━━━━━━━━━━━━━━━┩\n",
              "│ conv1d (<span style=\"color: #0087ff; text-decoration-color: #0087ff\">Conv1D</span>)                 │ (<span style=\"color: #00d7ff; text-decoration-color: #00d7ff\">None</span>, <span style=\"color: #00af00; text-decoration-color: #00af00\">20</span>, <span style=\"color: #00af00; text-decoration-color: #00af00\">64</span>)         │         <span style=\"color: #00af00; text-decoration-color: #00af00\">1,216</span> │\n",
              "├─────────────────────────────────┼────────────────────────┼───────────────┤\n",
              "│ conv1d_1 (<span style=\"color: #0087ff; text-decoration-color: #0087ff\">Conv1D</span>)               │ (<span style=\"color: #00d7ff; text-decoration-color: #00d7ff\">None</span>, <span style=\"color: #00af00; text-decoration-color: #00af00\">18</span>, <span style=\"color: #00af00; text-decoration-color: #00af00\">64</span>)         │        <span style=\"color: #00af00; text-decoration-color: #00af00\">12,352</span> │\n",
              "├─────────────────────────────────┼────────────────────────┼───────────────┤\n",
              "│ max_pooling1d (<span style=\"color: #0087ff; text-decoration-color: #0087ff\">MaxPooling1D</span>)    │ (<span style=\"color: #00d7ff; text-decoration-color: #00d7ff\">None</span>, <span style=\"color: #00af00; text-decoration-color: #00af00\">9</span>, <span style=\"color: #00af00; text-decoration-color: #00af00\">64</span>)          │             <span style=\"color: #00af00; text-decoration-color: #00af00\">0</span> │\n",
              "├─────────────────────────────────┼────────────────────────┼───────────────┤\n",
              "│ dropout (<span style=\"color: #0087ff; text-decoration-color: #0087ff\">Dropout</span>)               │ (<span style=\"color: #00d7ff; text-decoration-color: #00d7ff\">None</span>, <span style=\"color: #00af00; text-decoration-color: #00af00\">9</span>, <span style=\"color: #00af00; text-decoration-color: #00af00\">64</span>)          │             <span style=\"color: #00af00; text-decoration-color: #00af00\">0</span> │\n",
              "├─────────────────────────────────┼────────────────────────┼───────────────┤\n",
              "│ lstm (<span style=\"color: #0087ff; text-decoration-color: #0087ff\">LSTM</span>)                     │ (<span style=\"color: #00d7ff; text-decoration-color: #00d7ff\">None</span>, <span style=\"color: #00af00; text-decoration-color: #00af00\">64</span>)             │        <span style=\"color: #00af00; text-decoration-color: #00af00\">33,024</span> │\n",
              "├─────────────────────────────────┼────────────────────────┼───────────────┤\n",
              "│ dropout_1 (<span style=\"color: #0087ff; text-decoration-color: #0087ff\">Dropout</span>)             │ (<span style=\"color: #00d7ff; text-decoration-color: #00d7ff\">None</span>, <span style=\"color: #00af00; text-decoration-color: #00af00\">64</span>)             │             <span style=\"color: #00af00; text-decoration-color: #00af00\">0</span> │\n",
              "├─────────────────────────────────┼────────────────────────┼───────────────┤\n",
              "│ dense (<span style=\"color: #0087ff; text-decoration-color: #0087ff\">Dense</span>)                   │ (<span style=\"color: #00d7ff; text-decoration-color: #00d7ff\">None</span>, <span style=\"color: #00af00; text-decoration-color: #00af00\">100</span>)            │         <span style=\"color: #00af00; text-decoration-color: #00af00\">6,500</span> │\n",
              "├─────────────────────────────────┼────────────────────────┼───────────────┤\n",
              "│ dense_1 (<span style=\"color: #0087ff; text-decoration-color: #0087ff\">Dense</span>)                 │ (<span style=\"color: #00d7ff; text-decoration-color: #00d7ff\">None</span>, <span style=\"color: #00af00; text-decoration-color: #00af00\">3</span>)              │           <span style=\"color: #00af00; text-decoration-color: #00af00\">303</span> │\n",
              "└─────────────────────────────────┴────────────────────────┴───────────────┘\n",
              "</pre>\n"
            ]
          },
          "metadata": {}
        },
        {
          "output_type": "display_data",
          "data": {
            "text/plain": [
              "\u001b[1m Total params: \u001b[0m\u001b[38;5;34m53,395\u001b[0m (208.57 KB)\n"
            ],
            "text/html": [
              "<pre style=\"white-space:pre;overflow-x:auto;line-height:normal;font-family:Menlo,'DejaVu Sans Mono',consolas,'Courier New',monospace\"><span style=\"font-weight: bold\"> Total params: </span><span style=\"color: #00af00; text-decoration-color: #00af00\">53,395</span> (208.57 KB)\n",
              "</pre>\n"
            ]
          },
          "metadata": {}
        },
        {
          "output_type": "display_data",
          "data": {
            "text/plain": [
              "\u001b[1m Trainable params: \u001b[0m\u001b[38;5;34m53,395\u001b[0m (208.57 KB)\n"
            ],
            "text/html": [
              "<pre style=\"white-space:pre;overflow-x:auto;line-height:normal;font-family:Menlo,'DejaVu Sans Mono',consolas,'Courier New',monospace\"><span style=\"font-weight: bold\"> Trainable params: </span><span style=\"color: #00af00; text-decoration-color: #00af00\">53,395</span> (208.57 KB)\n",
              "</pre>\n"
            ]
          },
          "metadata": {}
        },
        {
          "output_type": "display_data",
          "data": {
            "text/plain": [
              "\u001b[1m Non-trainable params: \u001b[0m\u001b[38;5;34m0\u001b[0m (0.00 B)\n"
            ],
            "text/html": [
              "<pre style=\"white-space:pre;overflow-x:auto;line-height:normal;font-family:Menlo,'DejaVu Sans Mono',consolas,'Courier New',monospace\"><span style=\"font-weight: bold\"> Non-trainable params: </span><span style=\"color: #00af00; text-decoration-color: #00af00\">0</span> (0.00 B)\n",
              "</pre>\n"
            ]
          },
          "metadata": {}
        }
      ]
    },
    {
      "cell_type": "code",
      "source": [
        "history = model.fit(\n",
        "    X_train, y_train,\n",
        "    validation_data=(X_test, y_test),\n",
        "    epochs=20,\n",
        "    batch_size=32\n",
        ")\n"
      ],
      "metadata": {
        "colab": {
          "base_uri": "https://localhost:8080/"
        },
        "id": "ripQILO0XGGT",
        "outputId": "ff641902-a23b-4201-d873-7088a56cb715"
      },
      "execution_count": 9,
      "outputs": [
        {
          "output_type": "stream",
          "name": "stdout",
          "text": [
            "Epoch 1/20\n",
            "\u001b[1m210/210\u001b[0m \u001b[32m━━━━━━━━━━━━━━━━━━━━\u001b[0m\u001b[37m\u001b[0m \u001b[1m6s\u001b[0m 14ms/step - accuracy: 0.9100 - loss: 0.3838 - val_accuracy: 0.9291 - val_loss: 0.3048\n",
            "Epoch 2/20\n",
            "\u001b[1m210/210\u001b[0m \u001b[32m━━━━━━━━━━━━━━━━━━━━\u001b[0m\u001b[37m\u001b[0m \u001b[1m6s\u001b[0m 16ms/step - accuracy: 0.9314 - loss: 0.3002 - val_accuracy: 0.9291 - val_loss: 0.3041\n",
            "Epoch 3/20\n",
            "\u001b[1m210/210\u001b[0m \u001b[32m━━━━━━━━━━━━━━━━━━━━\u001b[0m\u001b[37m\u001b[0m \u001b[1m3s\u001b[0m 16ms/step - accuracy: 0.9291 - loss: 0.3059 - val_accuracy: 0.9291 - val_loss: 0.3053\n",
            "Epoch 4/20\n",
            "\u001b[1m210/210\u001b[0m \u001b[32m━━━━━━━━━━━━━━━━━━━━\u001b[0m\u001b[37m\u001b[0m \u001b[1m4s\u001b[0m 12ms/step - accuracy: 0.9258 - loss: 0.3158 - val_accuracy: 0.9291 - val_loss: 0.3091\n",
            "Epoch 5/20\n",
            "\u001b[1m210/210\u001b[0m \u001b[32m━━━━━━━━━━━━━━━━━━━━\u001b[0m\u001b[37m\u001b[0m \u001b[1m2s\u001b[0m 12ms/step - accuracy: 0.9301 - loss: 0.3003 - val_accuracy: 0.9291 - val_loss: 0.3078\n",
            "Epoch 6/20\n",
            "\u001b[1m210/210\u001b[0m \u001b[32m━━━━━━━━━━━━━━━━━━━━\u001b[0m\u001b[37m\u001b[0m \u001b[1m3s\u001b[0m 15ms/step - accuracy: 0.9286 - loss: 0.2980 - val_accuracy: 0.9291 - val_loss: 0.3290\n",
            "Epoch 7/20\n",
            "\u001b[1m210/210\u001b[0m \u001b[32m━━━━━━━━━━━━━━━━━━━━\u001b[0m\u001b[37m\u001b[0m \u001b[1m4s\u001b[0m 18ms/step - accuracy: 0.9336 - loss: 0.2774 - val_accuracy: 0.9291 - val_loss: 0.3121\n",
            "Epoch 8/20\n",
            "\u001b[1m210/210\u001b[0m \u001b[32m━━━━━━━━━━━━━━━━━━━━\u001b[0m\u001b[37m\u001b[0m \u001b[1m2s\u001b[0m 12ms/step - accuracy: 0.9258 - loss: 0.2917 - val_accuracy: 0.9291 - val_loss: 0.3120\n",
            "Epoch 9/20\n",
            "\u001b[1m210/210\u001b[0m \u001b[32m━━━━━━━━━━━━━━━━━━━━\u001b[0m\u001b[37m\u001b[0m \u001b[1m3s\u001b[0m 12ms/step - accuracy: 0.9276 - loss: 0.2814 - val_accuracy: 0.9291 - val_loss: 0.3322\n",
            "Epoch 10/20\n",
            "\u001b[1m210/210\u001b[0m \u001b[32m━━━━━━━━━━━━━━━━━━━━\u001b[0m\u001b[37m\u001b[0m \u001b[1m3s\u001b[0m 12ms/step - accuracy: 0.9355 - loss: 0.2404 - val_accuracy: 0.9291 - val_loss: 0.3287\n",
            "Epoch 11/20\n",
            "\u001b[1m210/210\u001b[0m \u001b[32m━━━━━━━━━━━━━━━━━━━━\u001b[0m\u001b[37m\u001b[0m \u001b[1m5s\u001b[0m 22ms/step - accuracy: 0.9304 - loss: 0.2490 - val_accuracy: 0.9291 - val_loss: 0.3896\n",
            "Epoch 12/20\n",
            "\u001b[1m210/210\u001b[0m \u001b[32m━━━━━━━━━━━━━━━━━━━━\u001b[0m\u001b[37m\u001b[0m \u001b[1m3s\u001b[0m 16ms/step - accuracy: 0.9274 - loss: 0.2485 - val_accuracy: 0.9291 - val_loss: 0.3377\n",
            "Epoch 13/20\n",
            "\u001b[1m210/210\u001b[0m \u001b[32m━━━━━━━━━━━━━━━━━━━━\u001b[0m\u001b[37m\u001b[0m \u001b[1m4s\u001b[0m 12ms/step - accuracy: 0.9350 - loss: 0.2200 - val_accuracy: 0.9291 - val_loss: 0.3542\n",
            "Epoch 14/20\n",
            "\u001b[1m210/210\u001b[0m \u001b[32m━━━━━━━━━━━━━━━━━━━━\u001b[0m\u001b[37m\u001b[0m \u001b[1m6s\u001b[0m 16ms/step - accuracy: 0.9303 - loss: 0.2165 - val_accuracy: 0.9291 - val_loss: 0.4256\n",
            "Epoch 15/20\n",
            "\u001b[1m210/210\u001b[0m \u001b[32m━━━━━━━━━━━━━━━━━━━━\u001b[0m\u001b[37m\u001b[0m \u001b[1m3s\u001b[0m 16ms/step - accuracy: 0.9363 - loss: 0.2008 - val_accuracy: 0.9231 - val_loss: 0.3688\n",
            "Epoch 16/20\n",
            "\u001b[1m210/210\u001b[0m \u001b[32m━━━━━━━━━━━━━━━━━━━━\u001b[0m\u001b[37m\u001b[0m \u001b[1m2s\u001b[0m 12ms/step - accuracy: 0.9377 - loss: 0.1904 - val_accuracy: 0.9279 - val_loss: 0.4165\n",
            "Epoch 17/20\n",
            "\u001b[1m210/210\u001b[0m \u001b[32m━━━━━━━━━━━━━━━━━━━━\u001b[0m\u001b[37m\u001b[0m \u001b[1m3s\u001b[0m 12ms/step - accuracy: 0.9438 - loss: 0.1649 - val_accuracy: 0.9261 - val_loss: 0.4057\n",
            "Epoch 18/20\n",
            "\u001b[1m210/210\u001b[0m \u001b[32m━━━━━━━━━━━━━━━━━━━━\u001b[0m\u001b[37m\u001b[0m \u001b[1m2s\u001b[0m 12ms/step - accuracy: 0.9463 - loss: 0.1479 - val_accuracy: 0.9207 - val_loss: 0.4149\n",
            "Epoch 19/20\n",
            "\u001b[1m210/210\u001b[0m \u001b[32m━━━━━━━━━━━━━━━━━━━━\u001b[0m\u001b[37m\u001b[0m \u001b[1m3s\u001b[0m 16ms/step - accuracy: 0.9514 - loss: 0.1400 - val_accuracy: 0.9267 - val_loss: 0.4150\n",
            "Epoch 20/20\n",
            "\u001b[1m210/210\u001b[0m \u001b[32m━━━━━━━━━━━━━━━━━━━━\u001b[0m\u001b[37m\u001b[0m \u001b[1m4s\u001b[0m 12ms/step - accuracy: 0.9548 - loss: 0.1323 - val_accuracy: 0.9255 - val_loss: 0.4807\n"
          ]
        }
      ]
    },
    {
      "cell_type": "code",
      "source": [
        "#test accuracy auswerten\n",
        "\n",
        "history = model.fit(\n",
        "    X_train, y_train,\n",
        "    validation_data=(X_test, y_test),\n",
        "    epochs=20,\n",
        "    batch_size=32\n",
        ")\n"
      ],
      "metadata": {
        "colab": {
          "base_uri": "https://localhost:8080/"
        },
        "id": "_T4TN7QuX0LV",
        "outputId": "9a6d8ce6-17c2-4c36-f0b7-342ddbe53709"
      },
      "execution_count": 10,
      "outputs": [
        {
          "output_type": "stream",
          "name": "stdout",
          "text": [
            "Epoch 1/20\n",
            "\u001b[1m210/210\u001b[0m \u001b[32m━━━━━━━━━━━━━━━━━━━━\u001b[0m\u001b[37m\u001b[0m \u001b[1m4s\u001b[0m 18ms/step - accuracy: 0.9567 - loss: 0.1115 - val_accuracy: 0.9237 - val_loss: 0.4902\n",
            "Epoch 2/20\n",
            "\u001b[1m210/210\u001b[0m \u001b[32m━━━━━━━━━━━━━━━━━━━━\u001b[0m\u001b[37m\u001b[0m \u001b[1m3s\u001b[0m 12ms/step - accuracy: 0.9689 - loss: 0.0931 - val_accuracy: 0.9213 - val_loss: 0.4533\n",
            "Epoch 3/20\n",
            "\u001b[1m210/210\u001b[0m \u001b[32m━━━━━━━━━━━━━━━━━━━━\u001b[0m\u001b[37m\u001b[0m \u001b[1m2s\u001b[0m 11ms/step - accuracy: 0.9626 - loss: 0.1085 - val_accuracy: 0.9285 - val_loss: 0.5097\n",
            "Epoch 4/20\n",
            "\u001b[1m210/210\u001b[0m \u001b[32m━━━━━━━━━━━━━━━━━━━━\u001b[0m\u001b[37m\u001b[0m \u001b[1m3s\u001b[0m 12ms/step - accuracy: 0.9704 - loss: 0.0867 - val_accuracy: 0.9195 - val_loss: 0.4677\n",
            "Epoch 5/20\n",
            "\u001b[1m210/210\u001b[0m \u001b[32m━━━━━━━━━━━━━━━━━━━━\u001b[0m\u001b[37m\u001b[0m \u001b[1m3s\u001b[0m 16ms/step - accuracy: 0.9686 - loss: 0.0922 - val_accuracy: 0.9243 - val_loss: 0.5437\n",
            "Epoch 6/20\n",
            "\u001b[1m210/210\u001b[0m \u001b[32m━━━━━━━━━━━━━━━━━━━━\u001b[0m\u001b[37m\u001b[0m \u001b[1m3s\u001b[0m 16ms/step - accuracy: 0.9766 - loss: 0.0650 - val_accuracy: 0.9273 - val_loss: 0.5524\n",
            "Epoch 7/20\n",
            "\u001b[1m210/210\u001b[0m \u001b[32m━━━━━━━━━━━━━━━━━━━━\u001b[0m\u001b[37m\u001b[0m \u001b[1m4s\u001b[0m 12ms/step - accuracy: 0.9737 - loss: 0.0670 - val_accuracy: 0.9219 - val_loss: 0.5469\n",
            "Epoch 8/20\n",
            "\u001b[1m210/210\u001b[0m \u001b[32m━━━━━━━━━━━━━━━━━━━━\u001b[0m\u001b[37m\u001b[0m \u001b[1m3s\u001b[0m 12ms/step - accuracy: 0.9791 - loss: 0.0582 - val_accuracy: 0.9285 - val_loss: 0.5764\n",
            "Epoch 9/20\n",
            "\u001b[1m210/210\u001b[0m \u001b[32m━━━━━━━━━━━━━━━━━━━━\u001b[0m\u001b[37m\u001b[0m \u001b[1m3s\u001b[0m 13ms/step - accuracy: 0.9756 - loss: 0.0732 - val_accuracy: 0.9178 - val_loss: 0.5066\n",
            "Epoch 10/20\n",
            "\u001b[1m210/210\u001b[0m \u001b[32m━━━━━━━━━━━━━━━━━━━━\u001b[0m\u001b[37m\u001b[0m \u001b[1m4s\u001b[0m 19ms/step - accuracy: 0.9803 - loss: 0.0507 - val_accuracy: 0.9279 - val_loss: 0.5565\n",
            "Epoch 11/20\n",
            "\u001b[1m210/210\u001b[0m \u001b[32m━━━━━━━━━━━━━━━━━━━━\u001b[0m\u001b[37m\u001b[0m \u001b[1m3s\u001b[0m 12ms/step - accuracy: 0.9795 - loss: 0.0580 - val_accuracy: 0.9261 - val_loss: 0.4925\n",
            "Epoch 12/20\n",
            "\u001b[1m210/210\u001b[0m \u001b[32m━━━━━━━━━━━━━━━━━━━━\u001b[0m\u001b[37m\u001b[0m \u001b[1m3s\u001b[0m 12ms/step - accuracy: 0.9835 - loss: 0.0487 - val_accuracy: 0.9190 - val_loss: 0.5181\n",
            "Epoch 13/20\n",
            "\u001b[1m210/210\u001b[0m \u001b[32m━━━━━━━━━━━━━━━━━━━━\u001b[0m\u001b[37m\u001b[0m \u001b[1m3s\u001b[0m 12ms/step - accuracy: 0.9775 - loss: 0.0590 - val_accuracy: 0.9207 - val_loss: 0.5093\n",
            "Epoch 14/20\n",
            "\u001b[1m210/210\u001b[0m \u001b[32m━━━━━━━━━━━━━━━━━━━━\u001b[0m\u001b[37m\u001b[0m \u001b[1m6s\u001b[0m 18ms/step - accuracy: 0.9845 - loss: 0.0429 - val_accuracy: 0.9231 - val_loss: 0.5337\n",
            "Epoch 15/20\n",
            "\u001b[1m210/210\u001b[0m \u001b[32m━━━━━━━━━━━━━━━━━━━━\u001b[0m\u001b[37m\u001b[0m \u001b[1m3s\u001b[0m 12ms/step - accuracy: 0.9838 - loss: 0.0460 - val_accuracy: 0.9225 - val_loss: 0.5411\n",
            "Epoch 16/20\n",
            "\u001b[1m210/210\u001b[0m \u001b[32m━━━━━━━━━━━━━━━━━━━━\u001b[0m\u001b[37m\u001b[0m \u001b[1m3s\u001b[0m 12ms/step - accuracy: 0.9818 - loss: 0.0454 - val_accuracy: 0.9213 - val_loss: 0.5819\n",
            "Epoch 17/20\n",
            "\u001b[1m210/210\u001b[0m \u001b[32m━━━━━━━━━━━━━━━━━━━━\u001b[0m\u001b[37m\u001b[0m \u001b[1m6s\u001b[0m 14ms/step - accuracy: 0.9865 - loss: 0.0426 - val_accuracy: 0.9249 - val_loss: 0.5810\n",
            "Epoch 18/20\n",
            "\u001b[1m210/210\u001b[0m \u001b[32m━━━━━━━━━━━━━━━━━━━━\u001b[0m\u001b[37m\u001b[0m \u001b[1m4s\u001b[0m 18ms/step - accuracy: 0.9851 - loss: 0.0384 - val_accuracy: 0.9237 - val_loss: 0.6442\n",
            "Epoch 19/20\n",
            "\u001b[1m210/210\u001b[0m \u001b[32m━━━━━━━━━━━━━━━━━━━━\u001b[0m\u001b[37m\u001b[0m \u001b[1m2s\u001b[0m 12ms/step - accuracy: 0.9876 - loss: 0.0352 - val_accuracy: 0.9291 - val_loss: 0.7100\n",
            "Epoch 20/20\n",
            "\u001b[1m210/210\u001b[0m \u001b[32m━━━━━━━━━━━━━━━━━━━━\u001b[0m\u001b[37m\u001b[0m \u001b[1m3s\u001b[0m 12ms/step - accuracy: 0.9882 - loss: 0.0358 - val_accuracy: 0.9285 - val_loss: 0.7306\n"
          ]
        }
      ]
    },
    {
      "cell_type": "code",
      "source": [
        "#confusion matrix\n",
        "#welche klassen wurden gut und welche schlecht erkannt\n",
        "\n",
        "from sklearn.metrics import confusion_matrix, ConfusionMatrixDisplay\n",
        "\n",
        "y_pred = model.predict(X_test)\n",
        "y_pred_classes = np.argmax(y_pred, axis=1)\n",
        "\n",
        "cm = confusion_matrix(y_test, y_pred_classes)\n",
        "disp = ConfusionMatrixDisplay(confusion_matrix=cm, display_labels=le.classes_)\n",
        "disp.plot(xticks_rotation=45)\n"
      ],
      "metadata": {
        "colab": {
          "base_uri": "https://localhost:8080/",
          "height": 522
        },
        "id": "jfI6ciduaNBm",
        "outputId": "fbe2df27-0c6b-4d8b-e0e0-cf9d30cba3af"
      },
      "execution_count": 11,
      "outputs": [
        {
          "output_type": "stream",
          "name": "stdout",
          "text": [
            "\u001b[1m53/53\u001b[0m \u001b[32m━━━━━━━━━━━━━━━━━━━━\u001b[0m\u001b[37m\u001b[0m \u001b[1m1s\u001b[0m 8ms/step\n"
          ]
        },
        {
          "output_type": "execute_result",
          "data": {
            "text/plain": [
              "<sklearn.metrics._plot.confusion_matrix.ConfusionMatrixDisplay at 0x7db16ab4b890>"
            ]
          },
          "metadata": {},
          "execution_count": 11
        },
        {
          "output_type": "display_data",
          "data": {
            "text/plain": [
              "<Figure size 640x480 with 2 Axes>"
            ],
            "image/png": "[encoded data removed]"
          },
          "metadata": {}
        }
      ]
    },
    {
      "cell_type": "markdown",
      "source": [
        "✅  Precision, Recall & F1-Score aus der Confusion Matrix berechnet\n",
        "\n",
        "Diese Metriken sagen  nicht nur wie viele richtig, sondern wie genau & vollständig das Modell bei jeder Klasse arbeitet.\n",
        "\n",
        "\n",
        "🧠 Begriffe kurz erklärt:\n",
        "Begriff\tBedeutung – pro Klasse\n",
        "* Precision\tWie viele der „positiven Vorhersagen“ waren wirklich richtig?\n",
        "* Recall\tWie viele der „echten Fälle“ hat das Modell richtig erkannt?\n",
        "* F1-Score\tHarmonie zwischen Precision & Recall – guter Gesamtwert"
      ],
      "metadata": {
        "id": "01I9kfmSqDCA"
      }
    },
    {
      "cell_type": "code",
      "source": [
        "from sklearn.metrics import classification_report\n",
        "\n",
        "print(classification_report(y_test, y_pred_classes, target_names=le.classes_))\n"
      ],
      "metadata": {
        "colab": {
          "base_uri": "https://localhost:8080/"
        },
        "id": "YeLxAJJ1qqJ3",
        "outputId": "08f4c7f9-3fbf-4789-ec73-8acc3fb35a8e"
      },
      "execution_count": 12,
      "outputs": [
        {
          "output_type": "stream",
          "name": "stdout",
          "text": [
            "              precision    recall  f1-score   support\n",
            "\n",
            "      Action       0.93      1.00      0.96      1559\n",
            "    Peadling       0.50      0.03      0.05        72\n",
            "     Resting       0.00      0.00      0.00        47\n",
            "\n",
            "    accuracy                           0.93      1678\n",
            "   macro avg       0.48      0.34      0.34      1678\n",
            "weighted avg       0.89      0.93      0.90      1678\n",
            "\n"
          ]
        }
      ]
    },
    {
      "cell_type": "markdown",
      "source": [
        "📌 Gut zu wissen:\n",
        "\n",
        "    Hohe Precision, niedriger Recall: Modell ist vorsichtig – erkennt nicht alle Fälle, aber wenn, dann sicher\n",
        "\n",
        "    Hoher Recall, niedrige Precision: Modell „schießt breit“ – erkennt viele Fälle, aber mit Fehlern"
      ],
      "metadata": {
        "id": "mDIBKlv6rWkv"
      }
    },
    {
      "cell_type": "code",
      "source": [
        "#extra F1-Score für gesamte Klassifikation\n",
        "\n",
        "from sklearn.metrics import f1_score\n",
        "\n",
        "f1_macro = f1_score(y_test, y_pred_classes, average='macro')  # alle Klassen gleich gewichtet\n",
        "f1_weighted = f1_score(y_test, y_pred_classes, average='weighted')  # gewichtet nach Klassenhäufigkeit\n",
        "\n",
        "print(f\"Macro-F1: {f1_macro:.2f}\")\n",
        "print(f\"Weighted-F1: {f1_weighted:.2f}\")\n"
      ],
      "metadata": {
        "colab": {
          "base_uri": "https://localhost:8080/"
        },
        "id": "abVe7kYjrVmB",
        "outputId": "05883475-9a2c-4491-ff9c-22f253ff12a1"
      },
      "execution_count": 13,
      "outputs": [
        {
          "output_type": "stream",
          "name": "stdout",
          "text": [
            "Macro-F1: 0.34\n",
            "Weighted-F1: 0.90\n"
          ]
        }
      ]
    },
    {
      "cell_type": "markdown",
      "source": [
        "Endeee erstmal für erstes imu-Daten mit training daten\n",
        "\n",
        "->Problem mit Resting"
      ],
      "metadata": {
        "id": "Z912bJfZrvDg"
      }
    },
    {
      "cell_type": "code",
      "source": [
        "for i, label in enumerate(pred_labels):\n",
        "    if label == 'Jumping':\n",
        "        print(f\"Sprung erkannt bei Fenster {i} (Sekunde {i * step_size / 22:.1f})\")\n"
      ],
      "metadata": {
        "colab": {
          "base_uri": "https://localhost:8080/",
          "height": 177
        },
        "id": "jVUjLRjNZ8wV",
        "outputId": "712997ce-8872-4eec-dbae-a7237e6dfd61"
      },
      "execution_count": null,
      "outputs": [
        {
          "output_type": "error",
          "ename": "NameError",
          "evalue": "name 'pred_labels' is not defined",
          "traceback": [
            "\u001b[0;31m---------------------------------------------------------------------------\u001b[0m",
            "\u001b[0;31mNameError\u001b[0m                                 Traceback (most recent call last)",
            "\u001b[0;32m<ipython-input-11-feb394131de8>\u001b[0m in \u001b[0;36m<cell line: 0>\u001b[0;34m()\u001b[0m\n\u001b[0;32m----> 1\u001b[0;31m \u001b[0;32mfor\u001b[0m \u001b[0mi\u001b[0m\u001b[0;34m,\u001b[0m \u001b[0mlabel\u001b[0m \u001b[0;32min\u001b[0m \u001b[0menumerate\u001b[0m\u001b[0;34m(\u001b[0m\u001b[0mpred_labels\u001b[0m\u001b[0;34m)\u001b[0m\u001b[0;34m:\u001b[0m\u001b[0;34m\u001b[0m\u001b[0;34m\u001b[0m\u001b[0m\n\u001b[0m\u001b[1;32m      2\u001b[0m     \u001b[0;32mif\u001b[0m \u001b[0mlabel\u001b[0m \u001b[0;34m==\u001b[0m \u001b[0;34m'Jumping'\u001b[0m\u001b[0;34m:\u001b[0m\u001b[0;34m\u001b[0m\u001b[0;34m\u001b[0m\u001b[0m\n\u001b[1;32m      3\u001b[0m         \u001b[0mprint\u001b[0m\u001b[0;34m(\u001b[0m\u001b[0;34mf\"Sprung erkannt bei Fenster {i} (Sekunde {i * step_size / 22:.1f})\"\u001b[0m\u001b[0;34m)\u001b[0m\u001b[0;34m\u001b[0m\u001b[0;34m\u001b[0m\u001b[0m\n",
            "\u001b[0;31mNameError\u001b[0m: name 'pred_labels' is not defined"
          ]
        }
      ]
    },
    {
      "cell_type": "code",
      "source": [
        "import matplotlib.pyplot as plt\n",
        "\n",
        "plt.plot([1 if l == 'Jumping' else 0 for l in pred_labels])\n",
        "plt.title(\"Erkannte Sprünge über Zeit\")\n",
        "plt.xlabel(\"Fenster\")\n",
        "plt.ylabel(\"Jumping erkannt?\")\n",
        "plt.grid()\n",
        "plt.show()\n"
      ],
      "metadata": {
        "colab": {
          "base_uri": "https://localhost:8080/",
          "height": 212
        },
        "id": "_8h3-pw3Z_JC",
        "outputId": "0be4c957-fbb4-42e2-e321-5700e1b126a9"
      },
      "execution_count": null,
      "outputs": [
        {
          "output_type": "error",
          "ename": "NameError",
          "evalue": "name 'pred_labels' is not defined",
          "traceback": [
            "\u001b[0;31m---------------------------------------------------------------------------\u001b[0m",
            "\u001b[0;31mNameError\u001b[0m                                 Traceback (most recent call last)",
            "\u001b[0;32m<ipython-input-12-9d5ec1f7378c>\u001b[0m in \u001b[0;36m<cell line: 0>\u001b[0;34m()\u001b[0m\n\u001b[1;32m      1\u001b[0m \u001b[0;32mimport\u001b[0m \u001b[0mmatplotlib\u001b[0m\u001b[0;34m.\u001b[0m\u001b[0mpyplot\u001b[0m \u001b[0;32mas\u001b[0m \u001b[0mplt\u001b[0m\u001b[0;34m\u001b[0m\u001b[0;34m\u001b[0m\u001b[0m\n\u001b[1;32m      2\u001b[0m \u001b[0;34m\u001b[0m\u001b[0m\n\u001b[0;32m----> 3\u001b[0;31m \u001b[0mplt\u001b[0m\u001b[0;34m.\u001b[0m\u001b[0mplot\u001b[0m\u001b[0;34m(\u001b[0m\u001b[0;34m[\u001b[0m\u001b[0;36m1\u001b[0m \u001b[0;32mif\u001b[0m \u001b[0ml\u001b[0m \u001b[0;34m==\u001b[0m \u001b[0;34m'Jumping'\u001b[0m \u001b[0;32melse\u001b[0m \u001b[0;36m0\u001b[0m \u001b[0;32mfor\u001b[0m \u001b[0ml\u001b[0m \u001b[0;32min\u001b[0m \u001b[0mpred_labels\u001b[0m\u001b[0;34m]\u001b[0m\u001b[0;34m)\u001b[0m\u001b[0;34m\u001b[0m\u001b[0;34m\u001b[0m\u001b[0m\n\u001b[0m\u001b[1;32m      4\u001b[0m \u001b[0mplt\u001b[0m\u001b[0;34m.\u001b[0m\u001b[0mtitle\u001b[0m\u001b[0;34m(\u001b[0m\u001b[0;34m\"Erkannte Sprünge über Zeit\"\u001b[0m\u001b[0;34m)\u001b[0m\u001b[0;34m\u001b[0m\u001b[0;34m\u001b[0m\u001b[0m\n\u001b[1;32m      5\u001b[0m \u001b[0mplt\u001b[0m\u001b[0;34m.\u001b[0m\u001b[0mxlabel\u001b[0m\u001b[0;34m(\u001b[0m\u001b[0;34m\"Fenster\"\u001b[0m\u001b[0;34m)\u001b[0m\u001b[0;34m\u001b[0m\u001b[0;34m\u001b[0m\u001b[0m\n",
            "\u001b[0;31mNameError\u001b[0m: name 'pred_labels' is not defined"
          ]
        }
      ]
    }
  ]
}