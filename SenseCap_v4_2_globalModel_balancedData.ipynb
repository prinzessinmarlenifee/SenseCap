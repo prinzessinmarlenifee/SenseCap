{
  "nbformat": 4,
  "nbformat_minor": 0,
  "metadata": {
    "colab": {
      "provenance": []
    },
    "kernelspec": {
      "name": "python3",
      "display_name": "Python 3"
    },
    "language_info": {
      "name": "python"
    }
  },
  "cells": [
    {
      "cell_type": "markdown",
      "metadata": {
        "id": "view-in-github"
      },
      "source": [
        "<a href=\"https://colab.research.google.com/github/prinzessinmarlenifee/SenseCap/blob/main/SenseCap_v4-2_dataaugment_global_model.ipynb\" target=\"_parent\"><img src=\"https://colab.research.google.com/assets/colab-badge.svg\" alt=\"Open In Colab\"/></a>"
      ]
    },
    {
      "cell_type": "markdown",
      "source": [
        "#Global Model with Data Augmentation"
      ],
      "metadata": {
        "id": "O-KhIWTdEWH7"
      }
    },
    {
      "cell_type": "markdown",
      "source": [
        "##short overview"
      ],
      "metadata": {
        "id": "zvIFoNcZEchA"
      }
    },
    {
      "cell_type": "markdown",
      "source": [
        "\n",
        "\n",
        "Saving model and checkpoints for Zwischenspeicherung\n",
        "\n",
        "CSV-sensor data sheet\n",
        "1.   wrist\n",
        "2.   seat\n",
        "3.  head\n",
        "-> 3 Sensoren, 9 Spalten\n",
        "-> checkt erste und zweite Zeile für header (da unterschiedlich)\n",
        "\n",
        "*   hot encoding for labeling\n",
        " Action, Pedaling, Resting, Pushing\n",
        "\n",
        " Summary at end with\n",
        "\n",
        "\n",
        "*   test accuracy\n",
        "*   confusion matrix\n",
        "\n",
        "-> saved and stored in Drive as csv and png file\n",
        "\n",
        "\n",
        "\n",
        "\n",
        "\n",
        "all data is stored in Drive"
      ],
      "metadata": {
        "id": "YGXLzAGkEDb8"
      }
    },
    {
      "cell_type": "markdown",
      "source": [
        "##Model Choice"
      ],
      "metadata": {
        "id": "cXQYTbV4RFPd"
      }
    },
    {
      "cell_type": "markdown",
      "source": [
        "\n",
        "✅ Is CNN + LSTM a good choice for IMU-data?\n",
        "\n",
        "\n",
        "🔎 Why CNN?\n",
        "\n",
        "    local pattern recognition in short timeframes\n",
        "\n",
        "    saves time (less parameters than a normal LSTM)\n",
        "\n",
        "🔁 Why LSTM?\n",
        "\n",
        "    recognisez time dependencies\n",
        "\n",
        "    Ideal for sequential datasets\n",
        "\n",
        "✅ Alternatives or extensions for more performance:\n",
        "\n",
        "    Bidirectional LSTM → better for symmetrical movements\n",
        "\n",
        "    Residual CNN Blocks → for deep networks\n",
        "\n",
        "    Transformer → for big datasets and long sequences"
      ],
      "metadata": {
        "id": "hPnuFv-Z_HO0"
      }
    },
    {
      "cell_type": "markdown",
      "source": [
        "##Setup und Vorbereitung"
      ],
      "metadata": {
        "id": "Q9w-zEMK_K7s"
      }
    },
    {
      "cell_type": "code",
      "source": [
        "# mount drive\n",
        "from google.colab import drive\n",
        "drive.mount('/content/drive')"
      ],
      "metadata": {
        "id": "ZQ6FA7vvAKfn",
        "colab": {
          "base_uri": "https://localhost:8080/"
        },
        "outputId": "bf0e64d7-039e-4b58-bb2f-4e296b1d8bf5"
      },
      "execution_count": 1,
      "outputs": [
        {
          "output_type": "stream",
          "name": "stdout",
          "text": [
            "Mounted at /content/drive\n"
          ]
        }
      ]
    },
    {
      "cell_type": "markdown",
      "source": [
        "###Trouble-shooting google drive"
      ],
      "metadata": {
        "id": "3e0otLy6ANTn"
      }
    },
    {
      "cell_type": "code",
      "source": [
        "import os\n",
        "if os.path.ismount('/content/drive'):\n",
        "    print(\"Drive ist schon gemountet – wird entmountet.\")\n",
        "\n",
        "\n",
        "drive.mount('/content/drive')\n"
      ],
      "metadata": {
        "id": "s_faCfsS8zFp",
        "colab": {
          "base_uri": "https://localhost:8080/"
        },
        "outputId": "087597cc-e8b7-4335-bc59-d961c4e921ed"
      },
      "execution_count": 2,
      "outputs": [
        {
          "output_type": "stream",
          "name": "stdout",
          "text": [
            "Drive ist schon gemountet – wird entmountet.\n",
            "Drive already mounted at /content/drive; to attempt to forcibly remount, call drive.mount(\"/content/drive\", force_remount=True).\n"
          ]
        }
      ]
    },
    {
      "cell_type": "markdown",
      "source": [
        "###Packeages and setup"
      ],
      "metadata": {
        "id": "wvh-ULrzAVlo"
      }
    },
    {
      "cell_type": "code",
      "source": [
        "#import packages\n",
        "import os\n",
        "import json\n",
        "import numpy as np\n",
        "import pandas as pd\n",
        "from collections import Counter\n",
        "from sklearn.preprocessing import LabelEncoder\n",
        "from sklearn.metrics import classification_report, confusion_matrix, ConfusionMatrixDisplay\n",
        "import matplotlib.pyplot as plt\n",
        "import tensorflow as tf\n",
        "\n",
        "layers = tf.keras.layers\n",
        "models = tf.keras.models\n"
      ],
      "metadata": {
        "id": "OtTD-qyzDXoH"
      },
      "execution_count": 3,
      "outputs": []
    },
    {
      "cell_type": "code",
      "source": [
        "# --- PARAMETER ---\n",
        "sampling_rate = 60       # 60 Hz (SDI-algorythm)\n",
        "window_size = 60         # 1 second = 60 Frames\n",
        "step_size = 30           # 50% overlapping\n",
        "\n",
        "# location for all Sessions\n",
        "base_dir = '/content/drive/MyDrive/ML-MTB-Modell/IMU-Sessions/'\n"
      ],
      "metadata": {
        "id": "8d9oN1zpDqKo"
      },
      "execution_count": 4,
      "outputs": []
    },
    {
      "cell_type": "code",
      "source": [],
      "metadata": {
        "id": "vPyyMZx0jbCV"
      },
      "execution_count": null,
      "outputs": []
    },
    {
      "cell_type": "markdown",
      "source": [
        "#Sessions einlesen"
      ],
      "metadata": {
        "id": "bcvlHHFOD36z"
      }
    },
    {
      "cell_type": "code",
      "source": [
        "#prints founded sessions below\n",
        "session_dirs = sorted([\n",
        "    d for d in os.listdir(base_dir)\n",
        "    if os.path.isdir(os.path.join(base_dir, d))\n",
        "])\n",
        "print(f\"Gefundene Sessions: {len(session_dirs)} -> {session_dirs}\")\n"
      ],
      "metadata": {
        "id": "sqMHmK7wD2YX",
        "colab": {
          "base_uri": "https://localhost:8080/"
        },
        "outputId": "50e41457-1e53-4d0f-ed09-9fb04b326cdc"
      },
      "execution_count": 5,
      "outputs": [
        {
          "output_type": "stream",
          "name": "stdout",
          "text": [
            "Gefundene Sessions: 12 -> ['Session_01', 'Session_02', 'Session_03', 'Session_05', 'Session_06', 'Session_07', 'Session_09', 'Session_10', 'Session_11', 'Session_12', 'Session_13', 'Session_14']\n"
          ]
        }
      ]
    },
    {
      "cell_type": "markdown",
      "source": [
        "Fuktionen zum LAbel-Parsing und Datei finden"
      ],
      "metadata": {
        "id": "8puFV7gaEAMI"
      }
    },
    {
      "cell_type": "code",
      "source": [
        "# 5.1 parse_hot_labels: reads the _hot.json-file, gives every frame a label\n",
        "def parse_hot_labels(json_path, total_frames):\n",
        "    with open(json_path, 'r') as f:\n",
        "        data = json.load(f)\n",
        "    entries = data['button_presses'].strip().split(';')\n",
        "\n",
        "    label_changes = []\n",
        "    for entry in entries:\n",
        "        if ':' in entry:\n",
        "            label, frame = entry.strip().split(':')\n",
        "            label = label.strip()\n",
        "            # corrects spelling mistake: \"Peadling\" → \"Pedaling\"\n",
        "            if label.lower() == 'peadling':\n",
        "                label = 'Pedaling'\n",
        "            label_changes.append((int(frame.strip()), label))\n",
        "\n",
        "    frame_labels = ['Unknown'] * total_frames\n",
        "    for i, (start_frame, label) in enumerate(label_changes):\n",
        "        end_frame = label_changes[i + 1][0] if i + 1 < len(label_changes) else total_frames\n",
        "        for f in range(start_frame, min(end_frame, total_frames)):\n",
        "            frame_labels[f] = label\n",
        "    return frame_labels\n",
        "\n",
        "# 5.2 find_sensor_file: finds CSV-Datei, which starts with (Head_, Wrist_, Seat_)\n",
        "def find_sensor_file(folder, prefix):\n",
        "    for f in os.listdir(folder):\n",
        "        if f.lower().startswith(prefix.lower()):\n",
        "            return os.path.join(folder, f)\n",
        "    raise FileNotFoundError(f\"❌ Keine Datei mit Prefix '{prefix}' in {folder} gefunden.\")\n",
        "\n",
        "# 5.3 find_hot_file: finds JSON-Datei, which ends with \"_hot.json\"\n",
        "def find_hot_file(folder):\n",
        "    for f in os.listdir(folder):\n",
        "        if f.lower().endswith('_hot.json'):\n",
        "            return os.path.join(folder, f)\n",
        "    raise FileNotFoundError(f\"❌ Keine Datei mit Suffix '_hot.json' in {folder} gefunden.\")\n"
      ],
      "metadata": {
        "id": "lo3wDSUeD-TT"
      },
      "execution_count": 6,
      "outputs": []
    },
    {
      "cell_type": "markdown",
      "source": [
        "# 6. Fensterung für drei Sensoren kombinieren"
      ],
      "metadata": {
        "id": "FYZhfgCTESe4"
      }
    },
    {
      "cell_type": "code",
      "source": [
        "def window_data_multiple_sensors(head_data, wrist_data, seat_data, frame_labels):\n",
        "    X_windows, y_windows = [], []\n",
        "    total_frames = len(frame_labels)\n",
        "\n",
        "    # Assumption: head_data, wrist_data, seat_data all have the same amount of frames = total_frames\n",
        "    for start in range(0, total_frames - window_size + 1, step_size):\n",
        "        end = start + window_size\n",
        "\n",
        "        win_h = head_data[start:end]    # (window_size, 6)\n",
        "        win_w = wrist_data[start:end]\n",
        "        win_s = seat_data[start:end]\n",
        "        window = np.concatenate([win_h, win_w, win_s], axis=1)  # → (window_size, 18)\n",
        "\n",
        "        label_window = frame_labels[start:end]\n",
        "        dominant_label = Counter(label_window).most_common(1)[0][0]\n",
        "        if dominant_label == 'Unknown':\n",
        "            continue\n",
        "\n",
        "        X_windows.append(window)\n",
        "        y_windows.append(dominant_label)\n",
        "\n",
        "    return np.array(X_windows), np.array(y_windows)\n"
      ],
      "metadata": {
        "id": "_RKQP4OGEKi5"
      },
      "execution_count": 7,
      "outputs": []
    },
    {
      "cell_type": "markdown",
      "source": [
        "#7. Daten einlesen und Fenster / Labels erzeugen\n",
        "→ Nach Ausführung siehst du für jede Session etwa: “→ 153 Fenster, 3 Klassen” etc."
      ],
      "metadata": {
        "id": "yjBHXCZBEaWp"
      }
    },
    {
      "cell_type": "code",
      "source": [
        "#Preperation\n",
        "sessions_X = []\n",
        "sessions_y = []\n",
        "valid_sessions = []  # <- new List (valid sessions only)\n",
        "skipped_sessions = []\n",
        "\n",
        "#defining features:\n",
        "features = ['Euler_X', 'Euler_Y', 'Euler_Z', 'Acc_X', 'Acc_Y', 'Acc_Z', 'Gyr_X', 'Gyr_Y', 'Gyr_Z']\n",
        "\n",
        "\n",
        "def smart_feature_filter(df):\n",
        "    # comparing all lowercase\n",
        "    keep = [col for col in df.columns if any(kw in col.lower() for kw in ['euler', 'acc', 'gyr'])]\n",
        "    return df[keep]\n",
        "\n",
        "def print_csv_headers(path, label):\n",
        "    with open(path, 'r') as f:\n",
        "        lines = f.readlines()\n",
        "    print(f\"\\n📋 {label} → Datei: {os.path.basename(path)}\")\n",
        "    print(\"   Zeile 0:\", lines[0].strip())\n",
        "    print(\"   Zeile 1:\", lines[1].strip())\n",
        "\n",
        "\n",
        "def inspect_sensor_csv(path):\n",
        "    df = pd.read_csv(path, sep=',', skiprows=1)\n",
        "    df.columns = df.columns.str.strip()\n",
        "    print(f\"📊 {os.path.basename(path)}: {df.shape[1]} Spalten\")\n",
        "    print(\"   → Spaltennamen:\", df.columns.tolist())\n",
        "\n",
        "\n",
        "\n",
        "\n",
        "def load_sensor_csv(path):\n",
        "  import csv\n",
        "\n",
        "  # reading first two rows\n",
        "  with open(path, 'r') as f:\n",
        "      reader = csv.reader(f)\n",
        "      first_line = next(reader)\n",
        "      second_line = next(reader)\n",
        "\n",
        "  # checking if first row is a header (with nown keywords for example)\n",
        "  first_line_str = \",\".join(first_line).lower()\n",
        "  if any(kw in first_line_str for kw in ['euler', 'acc', 'gyr']):\n",
        "      skip = 0\n",
        "  else:\n",
        "      skip = 1\n",
        "\n",
        "  # reading\n",
        "  df = pd.read_csv(path, sep=',', skiprows=skip)\n",
        "  df.columns = df.columns.str.strip()\n",
        "\n",
        "  # filtering features\n",
        "  df = smart_feature_filter(df)\n",
        "\n",
        "  # numerical transformation\n",
        "  df = df.apply(pd.to_numeric, errors='coerce').fillna(0).astype(np.float32)\n",
        "\n",
        "  return df.values\n",
        "\n",
        "  print(f\"🔍 {os.path.basename(path)}: Header {'erste Zeile' if skip==0 else 'zweite Zeile'}\")\n",
        "\n",
        "\n",
        "\n",
        "\n",
        "# Main loop\n",
        "for sess_dir in session_dirs:\n",
        "    print(f\"\\n📂 Lade Session: {sess_dir}\")\n",
        "    session_path = os.path.join(base_dir, sess_dir)\n",
        "\n",
        "\n",
        "    # 7.1 find sensor-data\n",
        "    head_path  = find_sensor_file(session_path, 'Head_')\n",
        "    wrist_path = find_sensor_file(session_path, 'Wrist_')\n",
        "    seat_path  = find_sensor_file(session_path, 'Seat_')\n",
        "\n",
        "    # 7.2 find Hot-JSON-files\n",
        "    hot_path = find_hot_file(session_path)\n",
        "\n",
        "    inspect_sensor_csv(head_path)\n",
        "    inspect_sensor_csv(wrist_path)\n",
        "    inspect_sensor_csv(seat_path)\n",
        "\n",
        "\n",
        "    #print csv-heads for debugging & checking (defined function from before print_csv_headers)\n",
        "    #print_csv_headers(head_path, 'Head')\n",
        "    #print_csv_headers(wrist_path, 'Wrist')\n",
        "    #print_csv_headers(seat_path, 'Seat')\n",
        "\n",
        "\n",
        "\n",
        "\n",
        "    # 7.3 load IMU-data\n",
        "    #load the function for IMU\n",
        "    #current problem: header is in the second row, seperator ',' , only finds two rows when reading the file\n",
        "\n",
        "\n",
        "\n",
        "    head_data  = load_sensor_csv(head_path)\n",
        "    wrist_data = load_sensor_csv(wrist_path)\n",
        "    seat_data  = load_sensor_csv(seat_path)\n",
        "\n",
        "\n",
        "\n",
        "\n",
        "    print(f\"📊 Sensorlängen: Head={head_data.shape}, Wrist={wrist_data.shape}, Seat={seat_data.shape}\")\n",
        "\n",
        "    #expected_features = 27  # 3 Sensoren × 9 Features (already defined)\n",
        "   # if X_win.shape[1:] != (window_size, expected_features):\n",
        "    #      print(f\"⚠️ Session {sess_dir} hat Format {X_win.shape[1:]}, wird übersprungen.\")\n",
        "     #     skipped_sessions.append(sess_dir)\n",
        "      #    continue\n",
        "\n",
        "\n",
        "\n",
        "    #7.4 load Labels\n",
        "    total_frames = min(head_data.shape[0], wrist_data.shape[0], seat_data.shape[0])\n",
        "    frame_labels = parse_hot_labels(hot_path, total_frames)\n",
        "\n",
        "\n",
        "\n",
        "    # 7.5 shortening\n",
        "    head_data  = head_data[:total_frames]\n",
        "    wrist_data = wrist_data[:total_frames]\n",
        "    seat_data  = seat_data[:total_frames]\n",
        "    frame_labels = frame_labels[:total_frames]\n",
        "\n",
        "\n",
        "    # 7.6 windowing & assigning labels\n",
        "    X_win, y_win = window_data_multiple_sensors(head_data, wrist_data, seat_data, frame_labels)\n",
        "\n",
        "    # 5. check validity\n",
        "    if len(X_win) == 0:\n",
        "        print(f\"⚠️  Session {sess_dir} übersprungen – keine gültigen Fenster.\")\n",
        "        skipped_sessions.append(sess_dir)\n",
        "        continue\n",
        "\n",
        "    expected_features = 27\n",
        "\n",
        "    if X_win.shape[1:] != (window_size, expected_features):\n",
        "        print(f\"⚠️  Session {sess_dir} hat Format {X_win.shape[1:]}, wird übersprungen.\")\n",
        "        skipped_sessions.append(sess_dir)\n",
        "        continue\n",
        "\n",
        "\n",
        "        # 6. save\n",
        "    sessions_X.append(X_win)\n",
        "    sessions_y.append(y_win)\n",
        "    valid_sessions.append(sess_dir)\n",
        "    print(f\"✅ Session {sess_dir}: {len(X_win)} Fenster, {len(np.unique(y_win))} Klassen\")\n",
        "\n",
        "# --- summarization ---\n",
        "print(\"\\n✅ Verwendete Sessions:\")\n",
        "for idx, sess in enumerate(valid_sessions):\n",
        "    print(f\"  {sess}: {sessions_X[idx].shape}\")\n",
        "\n",
        "if skipped_sessions:\n",
        "    print(\"\\n⛔️ Übersprungene Sessions:\")\n",
        "    for s in skipped_sessions:\n",
        "        print(f\"  {s}\")\n",
        "\n",
        "\n",
        "\n",
        "\n",
        "\n",
        "\n",
        "\n",
        "\n"
      ],
      "metadata": {
        "id": "7hAmaAMFEKM_",
        "colab": {
          "base_uri": "https://localhost:8080/"
        },
        "outputId": "abceb418-7400-4dfc-8deb-9f2ce9364a51"
      },
      "execution_count": 8,
      "outputs": [
        {
          "output_type": "stream",
          "name": "stdout",
          "text": [
            "\n",
            "📂 Lade Session: Session_01\n",
            "📊 Head_D422CD00563B_20230713_082527.csv: 12 Spalten\n",
            "   → Spaltennamen: ['PacketCounter', 'SampleTimeFine', 'Euler_X', 'Euler_Y', 'Euler_Z', 'Acc_X', 'Acc_Y', 'Acc_Z', 'Gyr_X', 'Gyr_Y', 'Gyr_Z', 'Unnamed: 11']\n",
            "📊 Wrist_D422CD004550_20230713_082527.csv: 12 Spalten\n",
            "   → Spaltennamen: ['PacketCounter', 'SampleTimeFine', 'Euler_X', 'Euler_Y', 'Euler_Z', 'Acc_X', 'Acc_Y', 'Acc_Z', 'Gyr_X', 'Gyr_Y', 'Gyr_Z', 'Unnamed: 11']\n",
            "📊 Seat_D422CD00456D_20230713_082527.csv: 12 Spalten\n",
            "   → Spaltennamen: ['PacketCounter', 'SampleTimeFine', 'Euler_X', 'Euler_Y', 'Euler_Z', 'Acc_X', 'Acc_Y', 'Acc_Z', 'Gyr_X', 'Gyr_Y', 'Gyr_Z', 'Unnamed: 11']\n",
            "📊 Sensorlängen: Head=(60077, 9), Wrist=(60078, 9), Seat=(60075, 9)\n",
            "✅ Session Session_01: 1997 Fenster, 3 Klassen\n",
            "\n",
            "📂 Lade Session: Session_02\n",
            "📊 Head_D422CD00563B_20230713_085629.csv: 12 Spalten\n",
            "   → Spaltennamen: ['PacketCounter', 'SampleTimeFine', 'Euler_X', 'Euler_Y', 'Euler_Z', 'Acc_X', 'Acc_Y', 'Acc_Z', 'Gyr_X', 'Gyr_Y', 'Gyr_Z', 'Unnamed: 11']\n",
            "📊 Wrist_D422CD004550_20230713_085629.csv: 12 Spalten\n",
            "   → Spaltennamen: ['PacketCounter', 'SampleTimeFine', 'Euler_X', 'Euler_Y', 'Euler_Z', 'Acc_X', 'Acc_Y', 'Acc_Z', 'Gyr_X', 'Gyr_Y', 'Gyr_Z', 'Unnamed: 11']\n",
            "📊 Seat_D422CD00456D_20230713_085629.csv: 12 Spalten\n",
            "   → Spaltennamen: ['PacketCounter', 'SampleTimeFine', 'Euler_X', 'Euler_Y', 'Euler_Z', 'Acc_X', 'Acc_Y', 'Acc_Z', 'Gyr_X', 'Gyr_Y', 'Gyr_Z', 'Unnamed: 11']\n",
            "📊 Sensorlängen: Head=(48792, 9), Wrist=(48792, 9), Seat=(48784, 9)\n",
            "✅ Session Session_02: 1621 Fenster, 3 Klassen\n",
            "\n",
            "📂 Lade Session: Session_03\n",
            "📊 Head_D422CD00563B_20230713_092642.csv: 12 Spalten\n",
            "   → Spaltennamen: ['PacketCounter', 'SampleTimeFine', 'Euler_X', 'Euler_Y', 'Euler_Z', 'Acc_X', 'Acc_Y', 'Acc_Z', 'Gyr_X', 'Gyr_Y', 'Gyr_Z', 'Unnamed: 11']\n",
            "📊 Wrist_D422CD004550_20230713_092642.csv: 12 Spalten\n",
            "   → Spaltennamen: ['PacketCounter', 'SampleTimeFine', 'Euler_X', 'Euler_Y', 'Euler_Z', 'Acc_X', 'Acc_Y', 'Acc_Z', 'Gyr_X', 'Gyr_Y', 'Gyr_Z', 'Unnamed: 11']\n",
            "📊 Seat_D422CD00456D_20230713_092642.csv: 12 Spalten\n",
            "   → Spaltennamen: ['PacketCounter', 'SampleTimeFine', 'Euler_X', 'Euler_Y', 'Euler_Z', 'Acc_X', 'Acc_Y', 'Acc_Z', 'Gyr_X', 'Gyr_Y', 'Gyr_Z', 'Unnamed: 11']\n",
            "📊 Sensorlängen: Head=(42308, 9), Wrist=(42305, 9), Seat=(42307, 9)\n",
            "✅ Session Session_03: 1407 Fenster, 3 Klassen\n",
            "\n",
            "📂 Lade Session: Session_05\n",
            "📊 Head_D422CD00563B_20230717_070932.csv: 12 Spalten\n",
            "   → Spaltennamen: ['PacketCounter', 'SampleTimeFine', 'Euler_X', 'Euler_Y', 'Euler_Z', 'Acc_X', 'Acc_Y', 'Acc_Z', 'Gyr_X', 'Gyr_Y', 'Gyr_Z', 'Unnamed: 11']\n",
            "📊 Wrist_D422CD004550_20230717_070932.csv: 12 Spalten\n",
            "   → Spaltennamen: ['PacketCounter', 'SampleTimeFine', 'Euler_X', 'Euler_Y', 'Euler_Z', 'Acc_X', 'Acc_Y', 'Acc_Z', 'Gyr_X', 'Gyr_Y', 'Gyr_Z', 'Unnamed: 11']\n",
            "📊 Seat_D422CD00456D_20230717_070932.csv: 12 Spalten\n",
            "   → Spaltennamen: ['PacketCounter', 'SampleTimeFine', 'Euler_X', 'Euler_Y', 'Euler_Z', 'Acc_X', 'Acc_Y', 'Acc_Z', 'Gyr_X', 'Gyr_Y', 'Gyr_Z', 'Unnamed: 11']\n",
            "📊 Sensorlängen: Head=(56013, 9), Wrist=(56019, 9), Seat=(56015, 9)\n",
            "✅ Session Session_05: 1858 Fenster, 4 Klassen\n",
            "\n",
            "📂 Lade Session: Session_06\n",
            "📊 Head_D422CD00563B_20230720_074713.csv: 12 Spalten\n",
            "   → Spaltennamen: ['PacketCounter', 'SampleTimeFine', 'Euler_X', 'Euler_Y', 'Euler_Z', 'Acc_X', 'Acc_Y', 'Acc_Z', 'Gyr_X', 'Gyr_Y', 'Gyr_Z', 'Unnamed: 11']\n",
            "📊 Wrist_D422CD004550_20230720_074713.csv: 12 Spalten\n",
            "   → Spaltennamen: ['PacketCounter', 'SampleTimeFine', 'Euler_X', 'Euler_Y', 'Euler_Z', 'Acc_X', 'Acc_Y', 'Acc_Z', 'Gyr_X', 'Gyr_Y', 'Gyr_Z', 'Unnamed: 11']\n",
            "📊 Seat_D422CD00456D_20230720_074713.csv: 12 Spalten\n",
            "   → Spaltennamen: ['PacketCounter', 'SampleTimeFine', 'Euler_X', 'Euler_Y', 'Euler_Z', 'Acc_X', 'Acc_Y', 'Acc_Z', 'Gyr_X', 'Gyr_Y', 'Gyr_Z', 'Unnamed: 11']\n",
            "📊 Sensorlängen: Head=(64027, 9), Wrist=(64026, 9), Seat=(64025, 9)\n",
            "✅ Session Session_06: 2116 Fenster, 4 Klassen\n",
            "\n",
            "📂 Lade Session: Session_07\n",
            "📊 Head_D422CD00563B_20230720_082728.csv: 12 Spalten\n",
            "   → Spaltennamen: ['PacketCounter', 'SampleTimeFine', 'Euler_X', 'Euler_Y', 'Euler_Z', 'Acc_X', 'Acc_Y', 'Acc_Z', 'Gyr_X', 'Gyr_Y', 'Gyr_Z', 'Unnamed: 11']\n",
            "📊 Wrist_D422CD004550_20230720_082728.csv: 12 Spalten\n",
            "   → Spaltennamen: ['PacketCounter', 'SampleTimeFine', 'Euler_X', 'Euler_Y', 'Euler_Z', 'Acc_X', 'Acc_Y', 'Acc_Z', 'Gyr_X', 'Gyr_Y', 'Gyr_Z', 'Unnamed: 11']\n",
            "📊 Seat_D422CD00456D_20230720_082728.csv: 12 Spalten\n",
            "   → Spaltennamen: ['PacketCounter', 'SampleTimeFine', 'Euler_X', 'Euler_Y', 'Euler_Z', 'Acc_X', 'Acc_Y', 'Acc_Z', 'Gyr_X', 'Gyr_Y', 'Gyr_Z', 'Unnamed: 11']\n",
            "📊 Sensorlängen: Head=(59920, 9), Wrist=(59917, 9), Seat=(59921, 9)\n",
            "✅ Session Session_07: 1991 Fenster, 4 Klassen\n",
            "\n",
            "📂 Lade Session: Session_09\n",
            "📊 Head_D422CD00563B_20230724_072319.csv: 12 Spalten\n",
            "   → Spaltennamen: ['PacketCounter', 'SampleTimeFine', 'Euler_X', 'Euler_Y', 'Euler_Z', 'Acc_X', 'Acc_Y', 'Acc_Z', 'Gyr_X', 'Gyr_Y', 'Gyr_Z', 'Unnamed: 11']\n",
            "📊 Wrist_D422CD004550_20230724_072319.csv: 12 Spalten\n",
            "   → Spaltennamen: ['PacketCounter', 'SampleTimeFine', 'Euler_X', 'Euler_Y', 'Euler_Z', 'Acc_X', 'Acc_Y', 'Acc_Z', 'Gyr_X', 'Gyr_Y', 'Gyr_Z', 'Unnamed: 11']\n",
            "📊 Seat_D422CD00456D_20230724_072319.csv: 12 Spalten\n",
            "   → Spaltennamen: ['PacketCounter', 'SampleTimeFine', 'Euler_X', 'Euler_Y', 'Euler_Z', 'Acc_X', 'Acc_Y', 'Acc_Z', 'Gyr_X', 'Gyr_Y', 'Gyr_Z', 'Unnamed: 11']\n",
            "📊 Sensorlängen: Head=(59464, 9), Wrist=(59465, 9), Seat=(59468, 9)\n",
            "✅ Session Session_09: 1979 Fenster, 4 Klassen\n",
            "\n",
            "📂 Lade Session: Session_10\n",
            "📊 Head_D422CD004576_20230725_070718.csv: 12 Spalten\n",
            "   → Spaltennamen: ['PacketCounter', 'SampleTimeFine', 'Euler_X', 'Euler_Y', 'Euler_Z', 'Acc_X', 'Acc_Y', 'Acc_Z', 'Gyr_X', 'Gyr_Y', 'Gyr_Z', 'Unnamed: 11']\n",
            "📊 Wrist_D422CD004550_20230725_070718.csv: 12 Spalten\n",
            "   → Spaltennamen: ['PacketCounter', 'SampleTimeFine', 'Euler_X', 'Euler_Y', 'Euler_Z', 'Acc_X', 'Acc_Y', 'Acc_Z', 'Gyr_X', 'Gyr_Y', 'Gyr_Z', 'Unnamed: 11']\n",
            "📊 Seat_D422CD00456D_20230725_070718.csv: 12 Spalten\n",
            "   → Spaltennamen: ['PacketCounter', 'SampleTimeFine', 'Euler_X', 'Euler_Y', 'Euler_Z', 'Acc_X', 'Acc_Y', 'Acc_Z', 'Gyr_X', 'Gyr_Y', 'Gyr_Z', 'Unnamed: 11']\n",
            "📊 Sensorlängen: Head=(62167, 9), Wrist=(62163, 9), Seat=(62163, 9)\n",
            "✅ Session Session_10: 2061 Fenster, 4 Klassen\n",
            "\n",
            "📂 Lade Session: Session_11\n",
            "📊 Head_D422CD004576_20230727_073528.csv: 12 Spalten\n",
            "   → Spaltennamen: ['PacketCounter', 'SampleTimeFine', 'Euler_X', 'Euler_Y', 'Euler_Z', 'Acc_X', 'Acc_Y', 'Acc_Z', 'Gyr_X', 'Gyr_Y', 'Gyr_Z', 'Unnamed: 11']\n"
          ]
        },
        {
          "output_type": "stream",
          "name": "stderr",
          "text": [
            "/tmp/ipython-input-8-667840779.py:25: DtypeWarning: Columns (5,6,7,8,9,10) have mixed types. Specify dtype option on import or set low_memory=False.\n",
            "  df = pd.read_csv(path, sep=',', skiprows=1)\n"
          ]
        },
        {
          "output_type": "stream",
          "name": "stdout",
          "text": [
            "📊 Wrist_D422CD004550_20230727_073528.csv: 12 Spalten\n",
            "   → Spaltennamen: ['PacketCounter', 'SampleTimeFine', 'Euler_X', 'Euler_Y', 'Euler_Z', 'Acc_X', 'Acc_Y', 'Acc_Z', 'Gyr_X', 'Gyr_Y', 'Gyr_Z', 'Unnamed: 11']\n"
          ]
        },
        {
          "output_type": "stream",
          "name": "stderr",
          "text": [
            "/tmp/ipython-input-8-667840779.py:25: DtypeWarning: Columns (5,6,7,8,9,10) have mixed types. Specify dtype option on import or set low_memory=False.\n",
            "  df = pd.read_csv(path, sep=',', skiprows=1)\n"
          ]
        },
        {
          "output_type": "stream",
          "name": "stdout",
          "text": [
            "📊 Seat_D422CD00456D_20230727_073528.csv: 12 Spalten\n",
            "   → Spaltennamen: ['PacketCounter', 'SampleTimeFine', 'Euler_X', 'Euler_Y', 'Euler_Z', 'Acc_X', 'Acc_Y', 'Acc_Z', 'Gyr_X', 'Gyr_Y', 'Gyr_Z', 'Unnamed: 11']\n"
          ]
        },
        {
          "output_type": "stream",
          "name": "stderr",
          "text": [
            "/tmp/ipython-input-8-667840779.py:50: DtypeWarning: Columns (5,6,7,8,9,10) have mixed types. Specify dtype option on import or set low_memory=False.\n",
            "  df = pd.read_csv(path, sep=',', skiprows=skip)\n",
            "/tmp/ipython-input-8-667840779.py:50: DtypeWarning: Columns (5,6,7,8,9,10) have mixed types. Specify dtype option on import or set low_memory=False.\n",
            "  df = pd.read_csv(path, sep=',', skiprows=skip)\n"
          ]
        },
        {
          "output_type": "stream",
          "name": "stdout",
          "text": [
            "📊 Sensorlängen: Head=(65763, 9), Wrist=(65763, 9), Seat=(65763, 9)\n",
            "✅ Session Session_11: 2181 Fenster, 4 Klassen\n",
            "\n",
            "📂 Lade Session: Session_12\n",
            "📊 Head_D422CD004576_20230801_075834.csv: 12 Spalten\n",
            "   → Spaltennamen: ['0', '416010770', '-4.522172451019287', '48.04213333129883', '21.0351619720459', '0', '0.1', '0.2', '0.3', '0.4', '0.5', '']\n",
            "📊 Wrist_D422CD004550_20230801_075834.csv: 12 Spalten\n",
            "   → Spaltennamen: ['0', '532295258', '-42.42717361450195', '45.996009826660156', '-55.192440032958984', '0', '0.1', '0.2', '0.3', '0.4', '0.5', '']\n",
            "📊 Seat_D422CD00456D_20230801_075834.csv: 11 Spalten\n",
            "   → Spaltennamen: ['0', '409881162', '2202328491210930', '-6035955047607420', '-8357672119140620', '0.00000000000000', '0.00000000000000.1', '0.00000000000000.2', '0.00000000000000.3', '0.00000000000000.4', '0.00000000000000.5']\n",
            "📊 Sensorlängen: Head=(59523, 9), Wrist=(59524, 9), Seat=(59514, 9)\n",
            "✅ Session Session_12: 1967 Fenster, 4 Klassen\n",
            "\n",
            "📂 Lade Session: Session_13\n",
            "📊 Head_D422CD004576_20230802_080027.csv: 12 Spalten\n",
            "   → Spaltennamen: ['0', '209493532', '-7.16727876663208', '47.413570404052734', '-87.12100219726562', '0', '0.1', '0.2', '0.3', '0.4', '0.5', '']\n",
            "📊 Wrist_D422CD004550_20230802_080027.csv: 12 Spalten\n",
            "   → Spaltennamen: ['0', '358144070', '-41.73847198486328', '23.458871841430664', '-68.4642105102539', '0', '0.1', '0.2', '0.3', '0.4', '0.5', '']\n",
            "📊 Seat_D422CD00456D_20230802_080027.csv: 11 Spalten\n",
            "   → Spaltennamen: ['0', '435628135', '199753963947296', '-6415881347656250', '-16434582519531200', '0.00000000000000', '0.00000000000000.1', '0.00000000000000.2', '0.00000000000000.3', '0.00000000000000.4', '0.00000000000000.5']\n",
            "📊 Sensorlängen: Head=(65046, 9), Wrist=(66494, 9), Seat=(65037, 9)\n",
            "✅ Session Session_13: 2161 Fenster, 4 Klassen\n",
            "\n",
            "📂 Lade Session: Session_14\n",
            "📊 Head_D422CD004576_20230803_073423.csv: 12 Spalten\n",
            "   → Spaltennamen: ['0', '23311239', '5.965623378753662', '-45.560245513916016', '164.4220428466797', '0', '0.1', '0.2', '0.3', '0.4', '0.5', '']\n",
            "📊 Wrist_D422CD004550_20230803_073423.csv: 12 Spalten\n",
            "   → Spaltennamen: ['0', '177062498', '78.41714477539062', '7.847972869873047', '119.1408920288086', '0', '0.1', '0.2', '0.3', '0.4', '0.5', '']\n",
            "📊 Seat_D422CD00456D_20230803_073423.csv: 11 Spalten\n",
            "   → Spaltennamen: ['0', '310191965', '7921337127685540', '-2267286872863770', '-12943373107910100', '0.00000000000000', '0.00000000000000.1', '0.00000000000000.2', '0.00000000000000.3', '0.00000000000000.4', '0.00000000000000.5']\n",
            "📊 Sensorlängen: Head=(58097, 9), Wrist=(58096, 9), Seat=(58086, 9)\n",
            "✅ Session Session_14: 1869 Fenster, 4 Klassen\n",
            "\n",
            "✅ Verwendete Sessions:\n",
            "  Session_01: (1997, 60, 27)\n",
            "  Session_02: (1621, 60, 27)\n",
            "  Session_03: (1407, 60, 27)\n",
            "  Session_05: (1858, 60, 27)\n",
            "  Session_06: (2116, 60, 27)\n",
            "  Session_07: (1991, 60, 27)\n",
            "  Session_09: (1979, 60, 27)\n",
            "  Session_10: (2061, 60, 27)\n",
            "  Session_11: (2181, 60, 27)\n",
            "  Session_12: (1967, 60, 27)\n",
            "  Session_13: (2161, 60, 27)\n",
            "  Session_14: (1869, 60, 27)\n"
          ]
        }
      ]
    },
    {
      "cell_type": "markdown",
      "source": [
        "🧠 Dann ist deine Fensterform:\n",
        "\n",
        "    3 Sensoren × 9 Spalten = 27 Features\n",
        "    → Fenster-Shape: (window_size, 27) = (60, 27)\n",
        "\n",
        "\n",
        "Euler_X, Euler_Y, Euler_Z\n",
        "\n",
        "\n",
        "Acc_X, Acc_Y, Acc_Z\n",
        "\n",
        "Gyr_X, Gyr_Y, Gyr_Z\n",
        "\n",
        "→ = 9 physikalisch sinnvolle Spalten pro Sensor"
      ],
      "metadata": {
        "id": "VEmZyAMMpyKX"
      }
    },
    {
      "cell_type": "markdown",
      "source": [
        "#8. Global Model: Training and Evaluation\n",
        "\n",
        "\n"
      ],
      "metadata": {
        "id": "8szKmR2qE5RI"
      }
    },
    {
      "cell_type": "markdown",
      "source": [
        "explanation step after step\n",
        "\n",
        "  **1. merge data**\n",
        "\n",
        "    all sessions are merged into one dataset so that the model can learn from it\n",
        "\n",
        " **2. Label-Encoding**\n",
        "\n",
        "\n",
        "    the model only works with numbers. The labels (different activities) are transformed into numbers.\n",
        "\n",
        " **3. Training- and validation-split**\n",
        "\n",
        "    The dataset will be split into training (90%) and validation (10%) so the model can be validated while it is being trained.\n",
        "\n",
        "  **4. creating the model**\n",
        "  \n",
        "    The model combines convolutional layers (to recognize lokal patterns) with LSTM (to learn dependencies over time). Dropout is being used to prevent overfitting.\n",
        "\n",
        "  **5. Checkpoint Callback**\n",
        "\n",
        "    During training, models will be saved after every epoch (only the best ones after validity-check)\n",
        "\n",
        "  **6. Training**\n",
        "  \n",
        "    The modell learns over 50 epochs. Training and validation-data is being used.\n",
        "\n",
        "  **7. saving the final model**\n",
        "\n",
        "    The final model is being saved to load and use it later on.\n",
        "\n",
        "  **8. Evaluation on validity-data**\n",
        "\n",
        "    The modell is being tested on the validation-data to test its accuracy\n",
        "\n",
        "  **9.  creating predictions**\n",
        "\n",
        "    Die Wahrscheinlichkeiten für jede Klasse werden ermittelt und in Klassen umgewandelt (höchste Wahrscheinlichkeit = Vorhersage).\n",
        "    The probability for each class is being determined. Then it is transformed into classes (highest probability = prediction)\n",
        "\n",
        "  **10.  checking labels **\n",
        "\n",
        "    Only the classes from the validation-data are being used for the report\n",
        "\n",
        " **11.  Classification Report**\n",
        "\n",
        "    Precision, recall, F1-score and support are calculated for each class. These are importand measures for the quality of the model.\n",
        "\n",
        "  **12.  Confusion Matrix**\n",
        "\n",
        "    visualizes precision and mistakes of the model\n"
      ],
      "metadata": {
        "id": "7OWIFUnm-UGI"
      }
    },
    {
      "cell_type": "markdown",
      "source": [
        "[link text](https://)##📘 What is a docstring?"
      ],
      "metadata": {
        "id": "HbSp1SfS2CLk"
      }
    },
    {
      "cell_type": "markdown",
      "source": [
        "\n",
        "\n",
        "a docstring is a string literal specified in source code that is used, like a comment, to document a specific segment of code.\n",
        "\n",
        "example:\n",
        "\n",
        "def addiere(a, b):\n",
        "    \"\"\"\n",
        "    this function adds two number and returns the result.\n",
        "    \n",
        "    Parameter:\n",
        "    a (int): first number\n",
        "    b (int): second number\n",
        "\n",
        "    return:\n",
        "    int: Sum from a and b\n",
        "    \"\"\"\n",
        "    return a + b\n",
        "\n",
        "* a docstring is used in the following way:\n",
        "\n",
        "help(addiere)\n",
        "\n",
        "* 📋 result:\n",
        "\n",
        "  Help on function addiere in module __main__:\n",
        "\n",
        "\n",
        "   \n",
        "    "
      ],
      "metadata": {
        "id": "XYzr62vq2ArZ"
      }
    },
    {
      "cell_type": "code",
      "source": [
        "# this codecell is used to check how balanced the dataset is\n",
        "\n",
        "label_counts = Counter(y_win)\n",
        "print(\"\\n📋 Summary of Labels in the last processed session:\")\n",
        "for label, count in label_counts.items():\n",
        "    print(f\"  {label}: {count} sections\")\n",
        "\n",
        "# To get the total count across ALL valid sessions:\n",
        "all_labels = [label for session_labels in sessions_y for label in session_labels]\n",
        "total_label_counts = Counter(all_labels)\n",
        "\n",
        "print(\"\\n📋 Total Summary of Labels across ALL valid sessions:\")\n",
        "for label, count in total_label_counts.items():\n",
        "    print(f\"  {label}: {count} sections\")\n",
        "\n",
        "# Specifically for the requested labels:\n",
        "print(\"\\nRequested Label Counts:\")\n",
        "print(f\"  Action: {total_label_counts.get('Action', 0)} sections\")\n",
        "print(f\"  Resting: {total_label_counts.get('Resting', 0)} sections\")\n",
        "print(f\"  Pedaling: {total_label_counts.get('Pedaling', 0)} sections\")\n",
        "# Assuming 'action labeled sections' refers to the 'Action' label\n",
        "# If it's a distinct label, you'd need to add it to the Counter logic.\n",
        "# Based on the code, 'Action' seems to be the relevant label.\n",
        "print(f\"  action labeled sections: {total_label_counts.get('Action', 0)} sections\")"
      ],
      "metadata": {
        "id": "BhisATBgDHe5",
        "colab": {
          "base_uri": "https://localhost:8080/"
        },
        "outputId": "93319d0a-b91d-41e5-d9e4-88394b8997e1"
      },
      "execution_count": 9,
      "outputs": [
        {
          "output_type": "stream",
          "name": "stdout",
          "text": [
            "\n",
            "📋 Summary of Labels in the last processed session:\n",
            "  Resting: 1165 sections\n",
            "  Pedaling: 46 sections\n",
            "  Action: 567 sections\n",
            "  Pushing: 91 sections\n",
            "\n",
            "📋 Total Summary of Labels across ALL valid sessions:\n",
            "  Resting: 12573 sections\n",
            "  Pedaling: 728 sections\n",
            "  Action: 7656 sections\n",
            "  Pushing: 2251 sections\n",
            "\n",
            "Requested Label Counts:\n",
            "  Action: 7656 sections\n",
            "  Resting: 12573 sections\n",
            "  Pedaling: 728 sections\n",
            "  action labeled sections: 7656 sections\n"
          ]
        }
      ]
    },
    {
      "cell_type": "code",
      "source": [
        "# this codecell is used to downsample the uneven distributed data. Thats to ensure no overfitting is taking place for specifiv labels\n",
        "\n",
        "# Separate data by label\n",
        "data_by_label = {}\n",
        "for i in range(len(all_labels)):\n",
        "  label = all_labels[i]\n",
        "  if label not in data_by_label:\n",
        "    data_by_label[label] = []\n",
        "  # Find which session and index the window belongs to\n",
        "  current_window_idx = 0\n",
        "  found = False\n",
        "  for session_idx, session_X in enumerate(sessions_X):\n",
        "    num_windows_in_session = len(session_X)\n",
        "    if i >= current_window_idx and i < current_window_idx + num_windows_in_session:\n",
        "      index_in_session = i - current_window_idx\n",
        "      data_by_label[label].append((session_X[index_in_session], label))\n",
        "      found = True\n",
        "      break\n",
        "    current_window_idx += num_windows_in_session\n",
        "  if not found:\n",
        "      print(f\"Warning: Could not find session data for overall index {i} with label {label}\")\n",
        "\n",
        "\n",
        "# Downsample labels (except 'Action')\n",
        "downsampled_data = []\n",
        "max_sections = 5000\n",
        "\n",
        "for label, data in data_by_label.items():\n",
        "    if label != 'Action' and len(data) > max_sections:\n",
        "        print(f\"Downsampling label '{label}' from {len(data)} to {max_sections} sections.\")\n",
        "        # Randomly sample\n",
        "        indices = np.random.choice(len(data), max_sections, replace=False)\n",
        "        downsampled_data.extend([data[i] for i in indices])\n",
        "    else:\n",
        "        print(f\"Keeping all {len(data)} sections for label '{label}'.\")\n",
        "        downsampled_data.extend(data)\n",
        "\n",
        "# Shuffle the downsampled data\n",
        "np.random.shuffle(downsampled_data)\n",
        "\n",
        "# Separate features (X) and labels (y) from downsampled data\n",
        "X_combined_downsampled = np.array([item[0] for item in downsampled_data])\n",
        "y_combined_downsampled = np.array([item[1] for item in downsampled_data])\n",
        "\n",
        "print(f\"\\nTotal sections after downsampling: {len(X_combined_downsampled)}\")\n",
        "downsampled_label_counts = Counter(y_combined_downsampled)\n",
        "print(\"\\n📋 Summary of Labels after downsampling:\")\n",
        "for label, count in downsampled_label_counts.items():\n",
        "    print(f\"  {label}: {count} sections\")\n",
        "\n"
      ],
      "metadata": {
        "id": "f3W50Vh4Mzk0",
        "colab": {
          "base_uri": "https://localhost:8080/"
        },
        "outputId": "f81e9d78-8656-4109-9519-3cacda359a93"
      },
      "execution_count": 10,
      "outputs": [
        {
          "output_type": "stream",
          "name": "stdout",
          "text": [
            "Downsampling label 'Resting' from 12573 to 5000 sections.\n",
            "Keeping all 728 sections for label 'Pedaling'.\n",
            "Keeping all 7656 sections for label 'Action'.\n",
            "Keeping all 2251 sections for label 'Pushing'.\n",
            "\n",
            "Total sections after downsampling: 15635\n",
            "\n",
            "📋 Summary of Labels after downsampling:\n",
            "  Action: 7656 sections\n",
            "  Resting: 5000 sections\n",
            "  Pushing: 2251 sections\n",
            "  Pedaling: 728 sections\n"
          ]
        }
      ]
    },
    {
      "cell_type": "markdown",
      "source": [
        "#Code"
      ],
      "metadata": {
        "id": "dz3KLBco-ig9"
      }
    },
    {
      "cell_type": "code",
      "source": [
        "import os\n",
        "import numpy as np\n",
        "import pandas as pd\n",
        "import matplotlib.pyplot as plt\n",
        "from sklearn.preprocessing import LabelEncoder\n",
        "from sklearn.model_selection import train_test_split\n",
        "from sklearn.metrics import classification_report, confusion_matrix, ConfusionMatrixDisplay\n",
        "from tensorflow.keras import layers, models\n",
        "from tensorflow.keras.callbacks import ModelCheckpoint\n",
        "from sklearn.utils.multiclass import unique_labels\n",
        "import random\n",
        "import time\n",
        "timestamp = time.strftime(\"%Y%m%d-%H%M%S\")\n",
        "\n",
        "# 💾 Speicherpfade anlegen\n",
        "checkpoint_dir = \"/content/drive/MyDrive/mtb_project/checkpoints_global\"\n",
        "final_model_dir = \"/content/drive/MyDrive/mtb_project/final_models_global\"\n",
        "report_dir = \"/content/drive/MyDrive/mtb_project/reports_global\"\n",
        "os.makedirs(checkpoint_dir, exist_ok=True)\n",
        "os.makedirs(final_model_dir, exist_ok=True)\n",
        "os.makedirs(report_dir, exist_ok=True)\n",
        "\n",
        "#Data Augmentation\n",
        "\n",
        "def augment_time_series_multiclass(X, y, augment_factor=2, jitter_std=0.02, scale_range=(0.85, 1.15),\n",
        "                                   permute_segments=3, apply_mixup=False, seed=42):\n",
        "    \"\"\"\n",
        "    Führt Data Augmentation für multiklassige Zeitreihen durch.\n",
        "\n",
        "    Args:\n",
        "        X (np.array): Zeitreihendaten (N, T, F)\n",
        "        y (np.array): Labels (N,)\n",
        "        augment_factor (int): Wie viele zusätzliche augmentierte Samples pro Original (z. B. 2x = verdreifacht)\n",
        "        jitter_std (float): Standardabweichung für Jittering (z. B. 0.01)\n",
        "        scale_range (tuple): Min/Max Faktor für Scaling (z. B. (0.9, 1.1))\n",
        "        permute_segments (int): Anzahl Segmente für Shuffle (z. B. 3)\n",
        "        apply_mixup (bool): Ob Mixup verwendet werden soll (optional)\n",
        "        seed (int): Random-Seed für Reproduzierbarkeit\n",
        "\n",
        "    Returns:\n",
        "        X_aug, y_aug: augmentierte Daten\n",
        "    \"\"\"\n",
        "    np.random.seed(seed)\n",
        "    random.seed(seed)\n",
        "\n",
        "    N, T, F = X.shape\n",
        "    X_aug = []\n",
        "    y_aug = []\n",
        "\n",
        "    def jitter(x):\n",
        "        return x + np.random.normal(loc=0., scale=jitter_std, size=x.shape)\n",
        "\n",
        "    def scale(x):\n",
        "        factor = np.random.uniform(*scale_range)\n",
        "        return x * factor\n",
        "\n",
        "    def permute(x):\n",
        "        segs = np.array_split(x, permute_segments)\n",
        "        np.random.shuffle(segs)\n",
        "        return np.concatenate(segs, axis=0)\n",
        "\n",
        "    def mixup(x1, x2, y1, y2):\n",
        "        alpha = np.random.beta(0.4, 0.4)\n",
        "        x_mix = alpha * x1 + (1 - alpha) * x2\n",
        "        # Label bleibt einfach y1 oder y2 – einfacher Ansatz\n",
        "        return x_mix, y1 if np.random.rand() < 0.5 else y2\n",
        "\n",
        "    for i in range(N):\n",
        "        for _ in range(augment_factor):\n",
        "            x_aug = X[i]\n",
        "\n",
        "            # Transformationen\n",
        "            if np.random.rand() < 0.5:\n",
        "                x_aug = jitter(x_aug)\n",
        "            if np.random.rand() < 0.5:\n",
        "                x_aug = scale(x_aug)\n",
        "            if np.random.rand() < 0.3:\n",
        "                x_aug = permute(x_aug)\n",
        "\n",
        "            if apply_mixup and np.random.rand() < 0.3:\n",
        "                idx2 = np.random.randint(0, N)\n",
        "                x_aug, y_mix = mixup(x_aug, X[idx2], y[i], y[idx2])\n",
        "                y_aug.append(y_mix)\n",
        "            else:\n",
        "                y_aug.append(y[i])\n",
        "\n",
        "            X_aug.append(x_aug)\n",
        "\n",
        "    X_aug = np.array(X_aug)\n",
        "    y_aug = np.array(y_aug)\n",
        "\n",
        "    # Zusammenführen\n",
        "    X_combined = np.concatenate([X, X_aug])\n",
        "    y_combined = np.concatenate([y, y_aug])\n",
        "\n",
        "    return X_combined, y_combined\n",
        "\n",
        "\n",
        "\n",
        "\n",
        "# 1️⃣ Sessions zusammenführen (dieser Teil muss mit deinen Daten ergänzt werden!)\n",
        "# Beispiel:\n",
        "X_all = X_combined_downsampled\n",
        "y_all = y_combined_downsampled\n",
        "\n",
        "# 2️⃣ Labels encoden\n",
        "le = LabelEncoder()\n",
        "y_all_enc = le.fit_transform(y_all)\n",
        "\n",
        "\n",
        "# joblib.dump(le, \"/content/drive/MyDrive/mtb_project/label_encoder.pkl\") #speicherung der labels für Auswertung später\n",
        "\n",
        "\n",
        "# 3️⃣ Train/Val-Split\n",
        "X_train, X_val, y_train, y_val = train_test_split(\n",
        "    X_all, y_all_enc, test_size=0.1, random_state=42, stratify=y_all_enc\n",
        ")\n",
        "\n",
        "# 4️⃣ Augmentieren – auf Original-Labels\n",
        "y_train_original = le.inverse_transform(y_train)\n",
        "X_aug, y_aug = augment_time_series_multiclass(X_train, y_train_original)\n",
        "y_aug_enc = le.transform(y_aug)\n",
        "\n",
        "# 🔀 Kombinieren\n",
        "X_train_combined = np.concatenate([X_train, X_aug])\n",
        "y_train_combined = np.concatenate([y_train, y_aug_enc])\n",
        "\n",
        "# 5️⃣ Modell bauen\n",
        "model = models.Sequential([\n",
        "    layers.Conv1D(64, 3, activation='relu', input_shape=X_train.shape[1:]),\n",
        "    layers.Conv1D(64, 3, activation='relu'),\n",
        "    layers.MaxPooling1D(pool_size=2),\n",
        "    layers.Dropout(0.3),\n",
        "    layers.LSTM(64),\n",
        "    layers.Dropout(0.3),\n",
        "    layers.Dense(100, activation='relu'),\n",
        "    layers.Dense(len(le.classes_), activation='softmax')\n",
        "])\n",
        "model.compile(optimizer='adam', loss='sparse_categorical_crossentropy', metrics=['accuracy'])\n",
        "\n",
        "# 6️⃣ Callback für Checkpoints\n",
        "checkpoint_cb = ModelCheckpoint(\n",
        "    filepath=os.path.join(checkpoint_dir, \"global_epoch_{epoch:02d}.keras\"),\n",
        "    save_best_only=True, save_weights_only=False, verbose=1\n",
        ")\n",
        "\n",
        "# 7️⃣ Training\n",
        "history = model.fit(\n",
        "    X_train_combined, y_train_combined,\n",
        "    validation_data=(X_val, y_val),\n",
        "    epochs=50, batch_size=64,\n",
        "    callbacks=[checkpoint_cb]\n",
        ")\n",
        "\n",
        "# 8️⃣ Speichern des finalen Modells\n",
        "model.save(os.path.join(final_model_dir, \"global_final_augment_factor2.keras\"))\n",
        "\n",
        "# 9️⃣ Evaluation\n",
        "val_loss, val_acc = model.evaluate(X_val, y_val, verbose=0)\n",
        "print(f\"\\n✅ Validation Accuracy: {val_acc:.2f}\")\n",
        "\n",
        "# 🔮 Vorhersagen\n",
        "y_pred_probs = model.predict(X_val, verbose=0)\n",
        "y_pred_classes = np.argmax(y_pred_probs, axis=1)\n",
        "\n",
        "# 📊 Report + Matrix\n",
        "labels_present = unique_labels(y_val, y_pred_classes)\n",
        "report_text = classification_report(\n",
        "    y_val, y_pred_classes,\n",
        "    labels=labels_present,\n",
        "    target_names=[le.classes_[i] for i in labels_present]\n",
        ")\n",
        "print(\"\\n📄 Classification Report:\\n\")\n",
        "print(report_text)\n",
        "\n",
        "# 💾 Speichern als Text\n",
        "with open(os.path.join(report_dir, \"global_model_augmentf2_classification_report{timestamp}.txt\"), \"w\") as f:\n",
        "    f.write(report_text)\n",
        "\n",
        "# 📈 Confusion Matrix\n",
        "cm = confusion_matrix(y_val, y_pred_classes, labels=labels_present)\n",
        "disp = ConfusionMatrixDisplay(cm, display_labels=[le.classes_[i] for i in labels_present])\n",
        "fig, ax = plt.subplots(figsize=(8, 6))\n",
        "disp.plot(ax=ax, xticks_rotation=45)\n",
        "plt.title(\"Confusion Matrix – Global Model Augmentf2 Validation\")\n",
        "\n",
        "# 💾 Speichern als PNG\n",
        "plt.savefig(os.path.join(report_dir, \"global_model_confusion_matrix_augmentfactor2{timestamp}.png\"))\n",
        "plt.show()\n"
      ],
      "metadata": {
        "id": "rxVuQEL74mVh",
        "colab": {
          "base_uri": "https://localhost:8080/",
          "height": 1000
        },
        "outputId": "27dae47b-fde1-4f96-e073-795881823a9e"
      },
      "execution_count": 11,
      "outputs": [
        {
          "output_type": "stream",
          "name": "stderr",
          "text": [
            "/usr/local/lib/python3.11/dist-packages/keras/src/layers/convolutional/base_conv.py:107: UserWarning: Do not pass an `input_shape`/`input_dim` argument to a layer. When using Sequential models, prefer using an `Input(shape)` object as the first layer in the model instead.\n",
            "  super().__init__(activity_regularizer=activity_regularizer, **kwargs)\n"
          ]
        },
        {
          "output_type": "stream",
          "name": "stdout",
          "text": [
            "Epoch 1/50\n",
            "\u001b[1m879/880\u001b[0m \u001b[32m━━━━━━━━━━━━━━━━━━━\u001b[0m\u001b[37m━\u001b[0m \u001b[1m0s\u001b[0m 43ms/step - accuracy: 0.5187 - loss: 1.0851\n",
            "Epoch 1: val_loss improved from inf to 0.95325, saving model to /content/drive/MyDrive/mtb_project/checkpoints_global/global_epoch_01.keras\n",
            "\u001b[1m880/880\u001b[0m \u001b[32m━━━━━━━━━━━━━━━━━━━━\u001b[0m\u001b[37m\u001b[0m \u001b[1m44s\u001b[0m 46ms/step - accuracy: 0.5188 - loss: 1.0849 - val_accuracy: 0.6074 - val_loss: 0.9532\n",
            "Epoch 2/50\n",
            "\u001b[1m880/880\u001b[0m \u001b[32m━━━━━━━━━━━━━━━━━━━━\u001b[0m\u001b[37m\u001b[0m \u001b[1m0s\u001b[0m 40ms/step - accuracy: 0.6189 - loss: 0.9211\n",
            "Epoch 2: val_loss improved from 0.95325 to 0.92058, saving model to /content/drive/MyDrive/mtb_project/checkpoints_global/global_epoch_02.keras\n",
            "\u001b[1m880/880\u001b[0m \u001b[32m━━━━━━━━━━━━━━━━━━━━\u001b[0m\u001b[37m\u001b[0m \u001b[1m37s\u001b[0m 41ms/step - accuracy: 0.6189 - loss: 0.9211 - val_accuracy: 0.6176 - val_loss: 0.9206\n",
            "Epoch 3/50\n",
            "\u001b[1m879/880\u001b[0m \u001b[32m━━━━━━━━━━━━━━━━━━━\u001b[0m\u001b[37m━\u001b[0m \u001b[1m0s\u001b[0m 40ms/step - accuracy: 0.6400 - loss: 0.8846\n",
            "Epoch 3: val_loss improved from 0.92058 to 0.88268, saving model to /content/drive/MyDrive/mtb_project/checkpoints_global/global_epoch_03.keras\n",
            "\u001b[1m880/880\u001b[0m \u001b[32m━━━━━━━━━━━━━━━━━━━━\u001b[0m\u001b[37m\u001b[0m \u001b[1m41s\u001b[0m 41ms/step - accuracy: 0.6401 - loss: 0.8845 - val_accuracy: 0.6413 - val_loss: 0.8827\n",
            "Epoch 4/50\n",
            "\u001b[1m880/880\u001b[0m \u001b[32m━━━━━━━━━━━━━━━━━━━━\u001b[0m\u001b[37m\u001b[0m \u001b[1m0s\u001b[0m 40ms/step - accuracy: 0.6490 - loss: 0.8618\n",
            "Epoch 4: val_loss improved from 0.88268 to 0.85082, saving model to /content/drive/MyDrive/mtb_project/checkpoints_global/global_epoch_04.keras\n",
            "\u001b[1m880/880\u001b[0m \u001b[32m━━━━━━━━━━━━━━━━━━━━\u001b[0m\u001b[37m\u001b[0m \u001b[1m41s\u001b[0m 42ms/step - accuracy: 0.6490 - loss: 0.8618 - val_accuracy: 0.6509 - val_loss: 0.8508\n",
            "Epoch 5/50\n",
            "\u001b[1m879/880\u001b[0m \u001b[32m━━━━━━━━━━━━━━━━━━━\u001b[0m\u001b[37m━\u001b[0m \u001b[1m0s\u001b[0m 41ms/step - accuracy: 0.6574 - loss: 0.8466\n",
            "Epoch 5: val_loss did not improve from 0.85082\n",
            "\u001b[1m880/880\u001b[0m \u001b[32m━━━━━━━━━━━━━━━━━━━━\u001b[0m\u001b[37m\u001b[0m \u001b[1m41s\u001b[0m 41ms/step - accuracy: 0.6574 - loss: 0.8466 - val_accuracy: 0.6477 - val_loss: 0.8526\n",
            "Epoch 6/50\n",
            "\u001b[1m880/880\u001b[0m \u001b[32m━━━━━━━━━━━━━━━━━━━━\u001b[0m\u001b[37m\u001b[0m \u001b[1m0s\u001b[0m 43ms/step - accuracy: 0.6649 - loss: 0.8246\n",
            "Epoch 6: val_loss improved from 0.85082 to 0.82795, saving model to /content/drive/MyDrive/mtb_project/checkpoints_global/global_epoch_06.keras\n",
            "\u001b[1m880/880\u001b[0m \u001b[32m━━━━━━━━━━━━━━━━━━━━\u001b[0m\u001b[37m\u001b[0m \u001b[1m43s\u001b[0m 43ms/step - accuracy: 0.6649 - loss: 0.8246 - val_accuracy: 0.6675 - val_loss: 0.8280\n",
            "Epoch 7/50\n",
            "\u001b[1m879/880\u001b[0m \u001b[32m━━━━━━━━━━━━━━━━━━━\u001b[0m\u001b[37m━\u001b[0m \u001b[1m0s\u001b[0m 43ms/step - accuracy: 0.6701 - loss: 0.8140\n",
            "Epoch 7: val_loss improved from 0.82795 to 0.80549, saving model to /content/drive/MyDrive/mtb_project/checkpoints_global/global_epoch_07.keras\n",
            "\u001b[1m880/880\u001b[0m \u001b[32m━━━━━━━━━━━━━━━━━━━━\u001b[0m\u001b[37m\u001b[0m \u001b[1m41s\u001b[0m 44ms/step - accuracy: 0.6701 - loss: 0.8139 - val_accuracy: 0.6752 - val_loss: 0.8055\n",
            "Epoch 8/50\n",
            "\u001b[1m879/880\u001b[0m \u001b[32m━━━━━━━━━━━━━━━━━━━\u001b[0m\u001b[37m━\u001b[0m \u001b[1m0s\u001b[0m 41ms/step - accuracy: 0.6798 - loss: 0.7959\n",
            "Epoch 8: val_loss did not improve from 0.80549\n",
            "\u001b[1m880/880\u001b[0m \u001b[32m━━━━━━━━━━━━━━━━━━━━\u001b[0m\u001b[37m\u001b[0m \u001b[1m39s\u001b[0m 42ms/step - accuracy: 0.6798 - loss: 0.7959 - val_accuracy: 0.6662 - val_loss: 0.8114\n",
            "Epoch 9/50\n",
            "\u001b[1m879/880\u001b[0m \u001b[32m━━━━━━━━━━━━━━━━━━━\u001b[0m\u001b[37m━\u001b[0m \u001b[1m0s\u001b[0m 41ms/step - accuracy: 0.6814 - loss: 0.7875\n",
            "Epoch 9: val_loss improved from 0.80549 to 0.80288, saving model to /content/drive/MyDrive/mtb_project/checkpoints_global/global_epoch_09.keras\n",
            "\u001b[1m880/880\u001b[0m \u001b[32m━━━━━━━━━━━━━━━━━━━━\u001b[0m\u001b[37m\u001b[0m \u001b[1m41s\u001b[0m 42ms/step - accuracy: 0.6814 - loss: 0.7875 - val_accuracy: 0.6758 - val_loss: 0.8029\n",
            "Epoch 10/50\n",
            "\u001b[1m880/880\u001b[0m \u001b[32m━━━━━━━━━━━━━━━━━━━━\u001b[0m\u001b[37m\u001b[0m \u001b[1m0s\u001b[0m 41ms/step - accuracy: 0.6944 - loss: 0.7678\n",
            "Epoch 10: val_loss did not improve from 0.80288\n",
            "\u001b[1m880/880\u001b[0m \u001b[32m━━━━━━━━━━━━━━━━━━━━\u001b[0m\u001b[37m\u001b[0m \u001b[1m41s\u001b[0m 42ms/step - accuracy: 0.6944 - loss: 0.7678 - val_accuracy: 0.6682 - val_loss: 0.8046\n",
            "Epoch 11/50\n",
            "\u001b[1m880/880\u001b[0m \u001b[32m━━━━━━━━━━━━━━━━━━━━\u001b[0m\u001b[37m\u001b[0m \u001b[1m0s\u001b[0m 41ms/step - accuracy: 0.6934 - loss: 0.7604\n",
            "Epoch 11: val_loss improved from 0.80288 to 0.78958, saving model to /content/drive/MyDrive/mtb_project/checkpoints_global/global_epoch_11.keras\n",
            "\u001b[1m880/880\u001b[0m \u001b[32m━━━━━━━━━━━━━━━━━━━━\u001b[0m\u001b[37m\u001b[0m \u001b[1m40s\u001b[0m 42ms/step - accuracy: 0.6934 - loss: 0.7604 - val_accuracy: 0.6912 - val_loss: 0.7896\n",
            "Epoch 12/50\n",
            "\u001b[1m880/880\u001b[0m \u001b[32m━━━━━━━━━━━━━━━━━━━━\u001b[0m\u001b[37m\u001b[0m \u001b[1m0s\u001b[0m 45ms/step - accuracy: 0.7001 - loss: 0.7458\n",
            "Epoch 12: val_loss improved from 0.78958 to 0.76275, saving model to /content/drive/MyDrive/mtb_project/checkpoints_global/global_epoch_12.keras\n",
            "\u001b[1m880/880\u001b[0m \u001b[32m━━━━━━━━━━━━━━━━━━━━\u001b[0m\u001b[37m\u001b[0m \u001b[1m45s\u001b[0m 46ms/step - accuracy: 0.7001 - loss: 0.7458 - val_accuracy: 0.6873 - val_loss: 0.7628\n",
            "Epoch 13/50\n",
            "\u001b[1m880/880\u001b[0m \u001b[32m━━━━━━━━━━━━━━━━━━━━\u001b[0m\u001b[37m\u001b[0m \u001b[1m0s\u001b[0m 43ms/step - accuracy: 0.7001 - loss: 0.7384\n",
            "Epoch 13: val_loss improved from 0.76275 to 0.75585, saving model to /content/drive/MyDrive/mtb_project/checkpoints_global/global_epoch_13.keras\n",
            "\u001b[1m880/880\u001b[0m \u001b[32m━━━━━━━━━━━━━━━━━━━━\u001b[0m\u001b[37m\u001b[0m \u001b[1m39s\u001b[0m 44ms/step - accuracy: 0.7001 - loss: 0.7384 - val_accuracy: 0.6899 - val_loss: 0.7558\n",
            "Epoch 14/50\n",
            "\u001b[1m879/880\u001b[0m \u001b[32m━━━━━━━━━━━━━━━━━━━\u001b[0m\u001b[37m━\u001b[0m \u001b[1m0s\u001b[0m 43ms/step - accuracy: 0.7085 - loss: 0.7269\n",
            "Epoch 14: val_loss improved from 0.75585 to 0.74975, saving model to /content/drive/MyDrive/mtb_project/checkpoints_global/global_epoch_14.keras\n",
            "\u001b[1m880/880\u001b[0m \u001b[32m━━━━━━━━━━━━━━━━━━━━\u001b[0m\u001b[37m\u001b[0m \u001b[1m41s\u001b[0m 44ms/step - accuracy: 0.7085 - loss: 0.7269 - val_accuracy: 0.7014 - val_loss: 0.7497\n",
            "Epoch 15/50\n",
            "\u001b[1m879/880\u001b[0m \u001b[32m━━━━━━━━━━━━━━━━━━━\u001b[0m\u001b[37m━\u001b[0m \u001b[1m0s\u001b[0m 41ms/step - accuracy: 0.7082 - loss: 0.7265\n",
            "Epoch 15: val_loss improved from 0.74975 to 0.73866, saving model to /content/drive/MyDrive/mtb_project/checkpoints_global/global_epoch_15.keras\n",
            "\u001b[1m880/880\u001b[0m \u001b[32m━━━━━━━━━━━━━━━━━━━━\u001b[0m\u001b[37m\u001b[0m \u001b[1m40s\u001b[0m 42ms/step - accuracy: 0.7082 - loss: 0.7265 - val_accuracy: 0.7097 - val_loss: 0.7387\n",
            "Epoch 16/50\n",
            "\u001b[1m879/880\u001b[0m \u001b[32m━━━━━━━━━━━━━━━━━━━\u001b[0m\u001b[37m━\u001b[0m \u001b[1m0s\u001b[0m 41ms/step - accuracy: 0.7093 - loss: 0.7233\n",
            "Epoch 16: val_loss did not improve from 0.73866\n",
            "\u001b[1m880/880\u001b[0m \u001b[32m━━━━━━━━━━━━━━━━━━━━\u001b[0m\u001b[37m\u001b[0m \u001b[1m40s\u001b[0m 41ms/step - accuracy: 0.7093 - loss: 0.7233 - val_accuracy: 0.6976 - val_loss: 0.7529\n",
            "Epoch 17/50\n",
            "\u001b[1m879/880\u001b[0m \u001b[32m━━━━━━━━━━━━━━━━━━━\u001b[0m\u001b[37m━\u001b[0m \u001b[1m0s\u001b[0m 43ms/step - accuracy: 0.7163 - loss: 0.7147\n",
            "Epoch 17: val_loss improved from 0.73866 to 0.73386, saving model to /content/drive/MyDrive/mtb_project/checkpoints_global/global_epoch_17.keras\n",
            "\u001b[1m880/880\u001b[0m \u001b[32m━━━━━━━━━━━━━━━━━━━━\u001b[0m\u001b[37m\u001b[0m \u001b[1m39s\u001b[0m 44ms/step - accuracy: 0.7163 - loss: 0.7147 - val_accuracy: 0.7091 - val_loss: 0.7339\n",
            "Epoch 18/50\n",
            "\u001b[1m879/880\u001b[0m \u001b[32m━━━━━━━━━━━━━━━━━━━\u001b[0m\u001b[37m━\u001b[0m \u001b[1m0s\u001b[0m 41ms/step - accuracy: 0.7139 - loss: 0.7093\n",
            "Epoch 18: val_loss did not improve from 0.73386\n",
            "\u001b[1m880/880\u001b[0m \u001b[32m━━━━━━━━━━━━━━━━━━━━\u001b[0m\u001b[37m\u001b[0m \u001b[1m39s\u001b[0m 42ms/step - accuracy: 0.7139 - loss: 0.7093 - val_accuracy: 0.6841 - val_loss: 0.7717\n",
            "Epoch 19/50\n",
            "\u001b[1m880/880\u001b[0m \u001b[32m━━━━━━━━━━━━━━━━━━━━\u001b[0m\u001b[37m\u001b[0m \u001b[1m0s\u001b[0m 41ms/step - accuracy: 0.7122 - loss: 0.7111\n",
            "Epoch 19: val_loss did not improve from 0.73386\n",
            "\u001b[1m880/880\u001b[0m \u001b[32m━━━━━━━━━━━━━━━━━━━━\u001b[0m\u001b[37m\u001b[0m \u001b[1m40s\u001b[0m 42ms/step - accuracy: 0.7122 - loss: 0.7111 - val_accuracy: 0.7078 - val_loss: 0.7490\n",
            "Epoch 20/50\n",
            "\u001b[1m880/880\u001b[0m \u001b[32m━━━━━━━━━━━━━━━━━━━━\u001b[0m\u001b[37m\u001b[0m \u001b[1m0s\u001b[0m 43ms/step - accuracy: 0.7269 - loss: 0.6916\n",
            "Epoch 20: val_loss improved from 0.73386 to 0.73260, saving model to /content/drive/MyDrive/mtb_project/checkpoints_global/global_epoch_20.keras\n",
            "\u001b[1m880/880\u001b[0m \u001b[32m━━━━━━━━━━━━━━━━━━━━\u001b[0m\u001b[37m\u001b[0m \u001b[1m39s\u001b[0m 45ms/step - accuracy: 0.7269 - loss: 0.6916 - val_accuracy: 0.7180 - val_loss: 0.7326\n",
            "Epoch 21/50\n",
            "\u001b[1m879/880\u001b[0m \u001b[32m━━━━━━━━━━━━━━━━━━━\u001b[0m\u001b[37m━\u001b[0m \u001b[1m0s\u001b[0m 42ms/step - accuracy: 0.7289 - loss: 0.6900\n",
            "Epoch 21: val_loss improved from 0.73260 to 0.72944, saving model to /content/drive/MyDrive/mtb_project/checkpoints_global/global_epoch_21.keras\n",
            "\u001b[1m880/880\u001b[0m \u001b[32m━━━━━━━━━━━━━━━━━━━━\u001b[0m\u001b[37m\u001b[0m \u001b[1m38s\u001b[0m 43ms/step - accuracy: 0.7289 - loss: 0.6900 - val_accuracy: 0.7212 - val_loss: 0.7294\n",
            "Epoch 22/50\n",
            "\u001b[1m880/880\u001b[0m \u001b[32m━━━━━━━━━━━━━━━━━━━━\u001b[0m\u001b[37m\u001b[0m \u001b[1m0s\u001b[0m 41ms/step - accuracy: 0.7232 - loss: 0.6993\n",
            "Epoch 22: val_loss did not improve from 0.72944\n",
            "\u001b[1m880/880\u001b[0m \u001b[32m━━━━━━━━━━━━━━━━━━━━\u001b[0m\u001b[37m\u001b[0m \u001b[1m40s\u001b[0m 41ms/step - accuracy: 0.7232 - loss: 0.6993 - val_accuracy: 0.7212 - val_loss: 0.7340\n",
            "Epoch 23/50\n",
            "\u001b[1m879/880\u001b[0m \u001b[32m━━━━━━━━━━━━━━━━━━━\u001b[0m\u001b[37m━\u001b[0m \u001b[1m0s\u001b[0m 43ms/step - accuracy: 0.7229 - loss: 0.7034\n",
            "Epoch 23: val_loss did not improve from 0.72944\n",
            "\u001b[1m880/880\u001b[0m \u001b[32m━━━━━━━━━━━━━━━━━━━━\u001b[0m\u001b[37m\u001b[0m \u001b[1m39s\u001b[0m 44ms/step - accuracy: 0.7228 - loss: 0.7034 - val_accuracy: 0.7001 - val_loss: 0.7373\n",
            "Epoch 24/50\n",
            "\u001b[1m879/880\u001b[0m \u001b[32m━━━━━━━━━━━━━━━━━━━\u001b[0m\u001b[37m━\u001b[0m \u001b[1m0s\u001b[0m 43ms/step - accuracy: 0.7188 - loss: 0.6993\n",
            "Epoch 24: val_loss did not improve from 0.72944\n",
            "\u001b[1m880/880\u001b[0m \u001b[32m━━━━━━━━━━━━━━━━━━━━\u001b[0m\u001b[37m\u001b[0m \u001b[1m40s\u001b[0m 44ms/step - accuracy: 0.7188 - loss: 0.6993 - val_accuracy: 0.7059 - val_loss: 0.7465\n",
            "Epoch 25/50\n",
            "\u001b[1m879/880\u001b[0m \u001b[32m━━━━━━━━━━━━━━━━━━━\u001b[0m\u001b[37m━\u001b[0m \u001b[1m0s\u001b[0m 41ms/step - accuracy: 0.7233 - loss: 0.6971\n",
            "Epoch 25: val_loss improved from 0.72944 to 0.72658, saving model to /content/drive/MyDrive/mtb_project/checkpoints_global/global_epoch_25.keras\n",
            "\u001b[1m880/880\u001b[0m \u001b[32m━━━━━━━━━━━━━━━━━━━━\u001b[0m\u001b[37m\u001b[0m \u001b[1m40s\u001b[0m 42ms/step - accuracy: 0.7233 - loss: 0.6972 - val_accuracy: 0.7072 - val_loss: 0.7266\n",
            "Epoch 26/50\n",
            "\u001b[1m879/880\u001b[0m \u001b[32m━━━━━━━━━━━━━━━━━━━\u001b[0m\u001b[37m━\u001b[0m \u001b[1m0s\u001b[0m 41ms/step - accuracy: 0.7328 - loss: 0.6793\n",
            "Epoch 26: val_loss did not improve from 0.72658\n",
            "\u001b[1m880/880\u001b[0m \u001b[32m━━━━━━━━━━━━━━━━━━━━\u001b[0m\u001b[37m\u001b[0m \u001b[1m40s\u001b[0m 42ms/step - accuracy: 0.7328 - loss: 0.6793 - val_accuracy: 0.7161 - val_loss: 0.7347\n",
            "Epoch 27/50\n",
            "\u001b[1m879/880\u001b[0m \u001b[32m━━━━━━━━━━━━━━━━━━━\u001b[0m\u001b[37m━\u001b[0m \u001b[1m0s\u001b[0m 44ms/step - accuracy: 0.7229 - loss: 0.7014\n",
            "Epoch 27: val_loss did not improve from 0.72658\n",
            "\u001b[1m880/880\u001b[0m \u001b[32m━━━━━━━━━━━━━━━━━━━━\u001b[0m\u001b[37m\u001b[0m \u001b[1m39s\u001b[0m 44ms/step - accuracy: 0.7229 - loss: 0.7014 - val_accuracy: 0.7046 - val_loss: 0.7336\n",
            "Epoch 28/50\n",
            "\u001b[1m879/880\u001b[0m \u001b[32m━━━━━━━━━━━━━━━━━━━\u001b[0m\u001b[37m━\u001b[0m \u001b[1m0s\u001b[0m 44ms/step - accuracy: 0.7243 - loss: 0.6897\n",
            "Epoch 28: val_loss improved from 0.72658 to 0.71174, saving model to /content/drive/MyDrive/mtb_project/checkpoints_global/global_epoch_28.keras\n",
            "\u001b[1m880/880\u001b[0m \u001b[32m━━━━━━━━━━━━━━━━━━━━\u001b[0m\u001b[37m\u001b[0m \u001b[1m42s\u001b[0m 45ms/step - accuracy: 0.7243 - loss: 0.6897 - val_accuracy: 0.7136 - val_loss: 0.7117\n",
            "Epoch 29/50\n",
            "\u001b[1m880/880\u001b[0m \u001b[32m━━━━━━━━━━━━━━━━━━━━\u001b[0m\u001b[37m\u001b[0m \u001b[1m0s\u001b[0m 42ms/step - accuracy: 0.7254 - loss: 0.6946\n",
            "Epoch 29: val_loss did not improve from 0.71174\n",
            "\u001b[1m880/880\u001b[0m \u001b[32m━━━━━━━━━━━━━━━━━━━━\u001b[0m\u001b[37m\u001b[0m \u001b[1m38s\u001b[0m 42ms/step - accuracy: 0.7254 - loss: 0.6946 - val_accuracy: 0.7155 - val_loss: 0.7207\n",
            "Epoch 30/50\n",
            "\u001b[1m879/880\u001b[0m \u001b[32m━━━━━━━━━━━━━━━━━━━\u001b[0m\u001b[37m━\u001b[0m \u001b[1m0s\u001b[0m 44ms/step - accuracy: 0.7289 - loss: 0.6866\n",
            "Epoch 30: val_loss did not improve from 0.71174\n",
            "\u001b[1m880/880\u001b[0m \u001b[32m━━━━━━━━━━━━━━━━━━━━\u001b[0m\u001b[37m\u001b[0m \u001b[1m40s\u001b[0m 45ms/step - accuracy: 0.7289 - loss: 0.6866 - val_accuracy: 0.7289 - val_loss: 0.7148\n",
            "Epoch 31/50\n",
            "\u001b[1m879/880\u001b[0m \u001b[32m━━━━━━━━━━━━━━━━━━━\u001b[0m\u001b[37m━\u001b[0m \u001b[1m0s\u001b[0m 43ms/step - accuracy: 0.7359 - loss: 0.6788\n",
            "Epoch 31: val_loss did not improve from 0.71174\n",
            "\u001b[1m880/880\u001b[0m \u001b[32m━━━━━━━━━━━━━━━━━━━━\u001b[0m\u001b[37m\u001b[0m \u001b[1m40s\u001b[0m 44ms/step - accuracy: 0.7359 - loss: 0.6788 - val_accuracy: 0.7174 - val_loss: 0.7189\n",
            "Epoch 32/50\n",
            "\u001b[1m879/880\u001b[0m \u001b[32m━━━━━━━━━━━━━━━━━━━\u001b[0m\u001b[37m━\u001b[0m \u001b[1m0s\u001b[0m 42ms/step - accuracy: 0.7276 - loss: 0.6850\n",
            "Epoch 32: val_loss did not improve from 0.71174\n",
            "\u001b[1m880/880\u001b[0m \u001b[32m━━━━━━━━━━━━━━━━━━━━\u001b[0m\u001b[37m\u001b[0m \u001b[1m40s\u001b[0m 42ms/step - accuracy: 0.7276 - loss: 0.6850 - val_accuracy: 0.7148 - val_loss: 0.7212\n",
            "Epoch 33/50\n",
            "\u001b[1m880/880\u001b[0m \u001b[32m━━━━━━━━━━━━━━━━━━━━\u001b[0m\u001b[37m\u001b[0m \u001b[1m0s\u001b[0m 44ms/step - accuracy: 0.7213 - loss: 0.6980\n",
            "Epoch 33: val_loss did not improve from 0.71174\n",
            "\u001b[1m880/880\u001b[0m \u001b[32m━━━━━━━━━━━━━━━━━━━━\u001b[0m\u001b[37m\u001b[0m \u001b[1m40s\u001b[0m 45ms/step - accuracy: 0.7213 - loss: 0.6980 - val_accuracy: 0.7040 - val_loss: 0.7377\n",
            "Epoch 34/50\n",
            "\u001b[1m880/880\u001b[0m \u001b[32m━━━━━━━━━━━━━━━━━━━━\u001b[0m\u001b[37m\u001b[0m \u001b[1m0s\u001b[0m 44ms/step - accuracy: 0.7318 - loss: 0.6808\n",
            "Epoch 34: val_loss improved from 0.71174 to 0.70946, saving model to /content/drive/MyDrive/mtb_project/checkpoints_global/global_epoch_34.keras\n",
            "\u001b[1m880/880\u001b[0m \u001b[32m━━━━━━━━━━━━━━━━━━━━\u001b[0m\u001b[37m\u001b[0m \u001b[1m41s\u001b[0m 45ms/step - accuracy: 0.7318 - loss: 0.6808 - val_accuracy: 0.7244 - val_loss: 0.7095\n",
            "Epoch 35/50\n",
            "\u001b[1m880/880\u001b[0m \u001b[32m━━━━━━━━━━━━━━━━━━━━\u001b[0m\u001b[37m\u001b[0m \u001b[1m0s\u001b[0m 42ms/step - accuracy: 0.7299 - loss: 0.6811\n",
            "Epoch 35: val_loss improved from 0.70946 to 0.70608, saving model to /content/drive/MyDrive/mtb_project/checkpoints_global/global_epoch_35.keras\n",
            "\u001b[1m880/880\u001b[0m \u001b[32m━━━━━━━━━━━━━━━━━━━━\u001b[0m\u001b[37m\u001b[0m \u001b[1m37s\u001b[0m 42ms/step - accuracy: 0.7299 - loss: 0.6811 - val_accuracy: 0.7174 - val_loss: 0.7061\n",
            "Epoch 36/50\n",
            "\u001b[1m879/880\u001b[0m \u001b[32m━━━━━━━━━━━━━━━━━━━\u001b[0m\u001b[37m━\u001b[0m \u001b[1m0s\u001b[0m 44ms/step - accuracy: 0.7289 - loss: 0.6785\n",
            "Epoch 36: val_loss improved from 0.70608 to 0.68818, saving model to /content/drive/MyDrive/mtb_project/checkpoints_global/global_epoch_36.keras\n",
            "\u001b[1m880/880\u001b[0m \u001b[32m━━━━━━━━━━━━━━━━━━━━\u001b[0m\u001b[37m\u001b[0m \u001b[1m40s\u001b[0m 45ms/step - accuracy: 0.7289 - loss: 0.6785 - val_accuracy: 0.7238 - val_loss: 0.6882\n",
            "Epoch 37/50\n",
            "\u001b[1m879/880\u001b[0m \u001b[32m━━━━━━━━━━━━━━━━━━━\u001b[0m\u001b[37m━\u001b[0m \u001b[1m0s\u001b[0m 42ms/step - accuracy: 0.7351 - loss: 0.6715\n",
            "Epoch 37: val_loss did not improve from 0.68818\n",
            "\u001b[1m880/880\u001b[0m \u001b[32m━━━━━━━━━━━━━━━━━━━━\u001b[0m\u001b[37m\u001b[0m \u001b[1m38s\u001b[0m 43ms/step - accuracy: 0.7351 - loss: 0.6715 - val_accuracy: 0.7238 - val_loss: 0.7148\n",
            "Epoch 38/50\n",
            "\u001b[1m879/880\u001b[0m \u001b[32m━━━━━━━━━━━━━━━━━━━\u001b[0m\u001b[37m━\u001b[0m \u001b[1m0s\u001b[0m 41ms/step - accuracy: 0.7381 - loss: 0.6679\n",
            "Epoch 38: val_loss did not improve from 0.68818\n",
            "\u001b[1m880/880\u001b[0m \u001b[32m━━━━━━━━━━━━━━━━━━━━\u001b[0m\u001b[37m\u001b[0m \u001b[1m40s\u001b[0m 42ms/step - accuracy: 0.7381 - loss: 0.6679 - val_accuracy: 0.7308 - val_loss: 0.7086\n",
            "Epoch 39/50\n",
            "\u001b[1m879/880\u001b[0m \u001b[32m━━━━━━━━━━━━━━━━━━━\u001b[0m\u001b[37m━\u001b[0m \u001b[1m0s\u001b[0m 44ms/step - accuracy: 0.7426 - loss: 0.6680\n",
            "Epoch 39: val_loss did not improve from 0.68818\n",
            "\u001b[1m880/880\u001b[0m \u001b[32m━━━━━━━━━━━━━━━━━━━━\u001b[0m\u001b[37m\u001b[0m \u001b[1m39s\u001b[0m 44ms/step - accuracy: 0.7426 - loss: 0.6680 - val_accuracy: 0.7091 - val_loss: 0.7295\n",
            "Epoch 40/50\n",
            "\u001b[1m879/880\u001b[0m \u001b[32m━━━━━━━━━━━━━━━━━━━\u001b[0m\u001b[37m━\u001b[0m \u001b[1m0s\u001b[0m 44ms/step - accuracy: 0.7381 - loss: 0.6804\n",
            "Epoch 40: val_loss did not improve from 0.68818\n",
            "\u001b[1m880/880\u001b[0m \u001b[32m━━━━━━━━━━━━━━━━━━━━\u001b[0m\u001b[37m\u001b[0m \u001b[1m42s\u001b[0m 45ms/step - accuracy: 0.7381 - loss: 0.6804 - val_accuracy: 0.7193 - val_loss: 0.7155\n",
            "Epoch 41/50\n",
            "\u001b[1m880/880\u001b[0m \u001b[32m━━━━━━━━━━━━━━━━━━━━\u001b[0m\u001b[37m\u001b[0m \u001b[1m0s\u001b[0m 41ms/step - accuracy: 0.7404 - loss: 0.6793\n",
            "Epoch 41: val_loss did not improve from 0.68818\n",
            "\u001b[1m880/880\u001b[0m \u001b[32m━━━━━━━━━━━━━━━━━━━━\u001b[0m\u001b[37m\u001b[0m \u001b[1m38s\u001b[0m 42ms/step - accuracy: 0.7404 - loss: 0.6793 - val_accuracy: 0.7251 - val_loss: 0.7049\n",
            "Epoch 42/50\n",
            "\u001b[1m879/880\u001b[0m \u001b[32m━━━━━━━━━━━━━━━━━━━\u001b[0m\u001b[37m━\u001b[0m \u001b[1m0s\u001b[0m 41ms/step - accuracy: 0.7394 - loss: 0.6706\n",
            "Epoch 42: val_loss did not improve from 0.68818\n",
            "\u001b[1m880/880\u001b[0m \u001b[32m━━━━━━━━━━━━━━━━━━━━\u001b[0m\u001b[37m\u001b[0m \u001b[1m41s\u001b[0m 42ms/step - accuracy: 0.7394 - loss: 0.6706 - val_accuracy: 0.7289 - val_loss: 0.7157\n",
            "Epoch 43/50\n",
            "\u001b[1m879/880\u001b[0m \u001b[32m━━━━━━━━━━━━━━━━━━━\u001b[0m\u001b[37m━\u001b[0m \u001b[1m0s\u001b[0m 44ms/step - accuracy: 0.7397 - loss: 0.6734\n",
            "Epoch 43: val_loss did not improve from 0.68818\n",
            "\u001b[1m880/880\u001b[0m \u001b[32m━━━━━━━━━━━━━━━━━━━━\u001b[0m\u001b[37m\u001b[0m \u001b[1m39s\u001b[0m 44ms/step - accuracy: 0.7397 - loss: 0.6734 - val_accuracy: 0.7136 - val_loss: 0.7092\n",
            "Epoch 44/50\n",
            "\u001b[1m879/880\u001b[0m \u001b[32m━━━━━━━━━━━━━━━━━━━\u001b[0m\u001b[37m━\u001b[0m \u001b[1m0s\u001b[0m 44ms/step - accuracy: 0.7364 - loss: 0.6777\n",
            "Epoch 44: val_loss did not improve from 0.68818\n",
            "\u001b[1m880/880\u001b[0m \u001b[32m━━━━━━━━━━━━━━━━━━━━\u001b[0m\u001b[37m\u001b[0m \u001b[1m41s\u001b[0m 45ms/step - accuracy: 0.7364 - loss: 0.6777 - val_accuracy: 0.7225 - val_loss: 0.6887\n",
            "Epoch 45/50\n",
            "\u001b[1m879/880\u001b[0m \u001b[32m━━━━━━━━━━━━━━━━━━━\u001b[0m\u001b[37m━\u001b[0m \u001b[1m0s\u001b[0m 41ms/step - accuracy: 0.7393 - loss: 0.6795\n",
            "Epoch 45: val_loss did not improve from 0.68818\n",
            "\u001b[1m880/880\u001b[0m \u001b[32m━━━━━━━━━━━━━━━━━━━━\u001b[0m\u001b[37m\u001b[0m \u001b[1m38s\u001b[0m 42ms/step - accuracy: 0.7393 - loss: 0.6795 - val_accuracy: 0.7276 - val_loss: 0.7052\n",
            "Epoch 46/50\n",
            "\u001b[1m880/880\u001b[0m \u001b[32m━━━━━━━━━━━━━━━━━━━━\u001b[0m\u001b[37m\u001b[0m \u001b[1m0s\u001b[0m 41ms/step - accuracy: 0.7332 - loss: 0.6811\n",
            "Epoch 46: val_loss did not improve from 0.68818\n",
            "\u001b[1m880/880\u001b[0m \u001b[32m━━━━━━━━━━━━━━━━━━━━\u001b[0m\u001b[37m\u001b[0m \u001b[1m41s\u001b[0m 42ms/step - accuracy: 0.7332 - loss: 0.6811 - val_accuracy: 0.7295 - val_loss: 0.7050\n",
            "Epoch 47/50\n",
            "\u001b[1m880/880\u001b[0m \u001b[32m━━━━━━━━━━━━━━━━━━━━\u001b[0m\u001b[37m\u001b[0m \u001b[1m0s\u001b[0m 44ms/step - accuracy: 0.7407 - loss: 0.6678\n",
            "Epoch 47: val_loss did not improve from 0.68818\n",
            "\u001b[1m880/880\u001b[0m \u001b[32m━━━━━━━━━━━━━━━━━━━━\u001b[0m\u001b[37m\u001b[0m \u001b[1m39s\u001b[0m 44ms/step - accuracy: 0.7407 - loss: 0.6678 - val_accuracy: 0.7308 - val_loss: 0.7092\n",
            "Epoch 48/50\n",
            "\u001b[1m879/880\u001b[0m \u001b[32m━━━━━━━━━━━━━━━━━━━\u001b[0m\u001b[37m━\u001b[0m \u001b[1m0s\u001b[0m 43ms/step - accuracy: 0.7385 - loss: 0.6736\n",
            "Epoch 48: val_loss did not improve from 0.68818\n",
            "\u001b[1m880/880\u001b[0m \u001b[32m━━━━━━━━━━━━━━━━━━━━\u001b[0m\u001b[37m\u001b[0m \u001b[1m41s\u001b[0m 44ms/step - accuracy: 0.7385 - loss: 0.6737 - val_accuracy: 0.7321 - val_loss: 0.7085\n",
            "Epoch 49/50\n",
            "\u001b[1m880/880\u001b[0m \u001b[32m━━━━━━━━━━━━━━━━━━━━\u001b[0m\u001b[37m\u001b[0m \u001b[1m0s\u001b[0m 42ms/step - accuracy: 0.7363 - loss: 0.6759\n",
            "Epoch 49: val_loss did not improve from 0.68818\n",
            "\u001b[1m880/880\u001b[0m \u001b[32m━━━━━━━━━━━━━━━━━━━━\u001b[0m\u001b[37m\u001b[0m \u001b[1m40s\u001b[0m 43ms/step - accuracy: 0.7363 - loss: 0.6759 - val_accuracy: 0.7238 - val_loss: 0.7292\n",
            "Epoch 50/50\n",
            "\u001b[1m880/880\u001b[0m \u001b[32m━━━━━━━━━━━━━━━━━━━━\u001b[0m\u001b[37m\u001b[0m \u001b[1m0s\u001b[0m 42ms/step - accuracy: 0.7315 - loss: 0.6870\n",
            "Epoch 50: val_loss did not improve from 0.68818\n",
            "\u001b[1m880/880\u001b[0m \u001b[32m━━━━━━━━━━━━━━━━━━━━\u001b[0m\u001b[37m\u001b[0m \u001b[1m41s\u001b[0m 43ms/step - accuracy: 0.7315 - loss: 0.6870 - val_accuracy: 0.7257 - val_loss: 0.7084\n",
            "\n",
            "✅ Validation Accuracy: 0.73\n",
            "\n",
            "📄 Classification Report:\n",
            "\n",
            "              precision    recall  f1-score   support\n",
            "\n",
            "      Action       0.69      0.89      0.77       766\n",
            "    Pedaling       0.69      0.15      0.25        73\n",
            "     Pushing       0.84      0.56      0.67       225\n",
            "     Resting       0.78      0.63      0.70       500\n",
            "\n",
            "    accuracy                           0.73      1564\n",
            "   macro avg       0.75      0.56      0.60      1564\n",
            "weighted avg       0.74      0.73      0.71      1564\n",
            "\n"
          ]
        },
        {
          "output_type": "display_data",
          "data": {
            "text/plain": [
              "<Figure size 800x600 with 2 Axes>"
            ],
            "image/png": "[encoded data removed]"
          },
          "metadata": {}
        }
      ]
    },
    {
      "cell_type": "code",
      "source": [
        "\n",
        "\n",
        "# Assuming 'model' from the previous cell is the trained model you want to save\n",
        "if 'model' in locals():\n",
        "    # Define the directory path\n",
        "    output_dir = '/content/drive/MyDrive/ML-MTB-Modell/ML-Model_trained/SenseCap_Model_v42_augment_factor220250607-163310.keras/final_models_global'\n",
        "\n",
        "    # Create the directory if it doesn't exist\n",
        "    os.makedirs(output_dir, exist_ok=True)\n",
        "\n",
        "    # Generate a timestamp for the filename\n",
        "    timestamp = datetime.datetime.now().strftime(\"%Y%m%d-%H%M%S\")\n",
        "\n",
        "    # Define the model filename\n",
        "    model_filename = f\"global_model_from_augment_cell_{timestamp}.keras\"\n",
        "\n",
        "    # Construct the full path to save the model\n",
        "    full_model_path = os.path.join(output_dir, model_filename)\n",
        "\n",
        "    # Save the model\n",
        "    model.save(full_model_path)\n",
        "    print(f\"\\nModel from the augment cell saved to: {full_model_path}\")\n",
        "else:\n",
        "    print(\"\\nModel 'model' from the augment cell not found. Please ensure the augment cell was run successfully.\")"
      ],
      "metadata": {
        "id": "VBgiranR1zvR"
      },
      "execution_count": null,
      "outputs": []
    },
    {
      "cell_type": "code",
      "source": [],
      "metadata": {
        "id": "mM_iDFcKXiaz"
      },
      "execution_count": null,
      "outputs": []
    },
    {
      "cell_type": "markdown",
      "source": [
        "#Code 2 - Model train with all augmentation factors\n",
        "\n",
        "Hier kommt ein sauberes Trainings-Skript, das für alle gewünschten augment_factor-Werte deine Modelle trainiert und speichert"
      ],
      "metadata": {
        "id": "XSJDI47tahkK"
      }
    },
    {
      "cell_type": "markdown",
      "source": [
        "So läuft das:\n",
        "\n",
        "    Für jeden augment_factor wird separat trainiert\n",
        "\n",
        "    Modelle landen in /final_models_global/global_aug_factor_X.keras\n",
        "\n",
        "    LabelEncoder wird einmal gespeichert für die spätere Analyse\n",
        "\n",
        "    Du kannst danach dein Analyse-Notebook von oben starten und die Ergebnisse bequem vergleichen"
      ],
      "metadata": {
        "id": "n4wHZ3RUafqm"
      }
    },
    {
      "cell_type": "code",
      "source": [
        "import os\n",
        "import numpy as np\n",
        "from sklearn.preprocessing import LabelEncoder\n",
        "from sklearn.model_selection import train_test_split\n",
        "from tensorflow.keras import layers, models\n",
        "from tensorflow.keras.callbacks import ModelCheckpoint\n",
        "import joblib\n",
        "\n",
        "# Speicherorte anpassen\n",
        "checkpoint_dir = \"/content/drive/MyDrive/mtb_project/checkpoints_global\"\n",
        "final_model_dir = \"/content/drive/MyDrive/mtb_project/final_models_global\"\n",
        "report_dir = \"/content/drive/MyDrive/mtb_project/reports_global\"\n",
        "os.makedirs(checkpoint_dir, exist_ok=True)\n",
        "os.makedirs(final_model_dir, exist_ok=True)\n",
        "os.makedirs(report_dir, exist_ok=True)\n",
        "\n",
        "# Deine augment_time_series_multiclass Funktion hier rein (oder importieren)\n",
        "\n",
        "# 1. Daten laden (deine Sessions zusammenführen)\n",
        "X_all = np.concatenate(sessions_X)\n",
        "y_all = np.concatenate(sessions_y)\n",
        "\n",
        "# 2. Labels encoden\n",
        "le = LabelEncoder()\n",
        "y_all_enc = le.fit_transform(y_all)\n",
        "\n",
        "# LabelEncoder speichern\n",
        "joblib.dump(le, os.path.join(final_model_dir, \"label_encoder.pkl\"))\n",
        "\n",
        "# 3. Train/Val-Split\n",
        "X_train, X_val, y_train, y_val = train_test_split(\n",
        "    X_all, y_all_enc, test_size=0.1, random_state=42, stratify=y_all_enc\n",
        ")\n",
        "\n",
        "# 4. Augmentierungsfaktoren zum Testen\n",
        "augment_factors = [0, 1, 2, 3]\n",
        "\n",
        "for factor in augment_factors:\n",
        "    print(f\"\\n🎯 Training mit augment_factor={factor} ...\")\n",
        "\n",
        "    if factor > 0:\n",
        "        # Labels vor der Augmentation zurückkonvertieren\n",
        "        y_train_orig = le.inverse_transform(y_train)\n",
        "        X_aug, y_aug = augment_time_series_multiclass(\n",
        "            X_train, y_train_orig,\n",
        "            augment_factor=factor,\n",
        "            jitter_std=0.01,\n",
        "            scale_range=(0.9, 1.1),\n",
        "            permute_segments=3,\n",
        "            apply_mixup=True\n",
        "        )\n",
        "        y_aug_enc = le.transform(y_aug)\n",
        "\n",
        "        # Kombinieren\n",
        "        X_train_combined = np.concatenate([X_train, X_aug])\n",
        "        y_train_combined = np.concatenate([y_train, y_aug_enc])\n",
        "    else:\n",
        "        X_train_combined = X_train\n",
        "        y_train_combined = y_train\n",
        "\n",
        "    # Modell bauen\n",
        "    model = models.Sequential([\n",
        "        layers.Conv1D(64, 3, activation='relu', input_shape=X_train.shape[1:]),\n",
        "        layers.Conv1D(64, 3, activation='relu'),\n",
        "        layers.MaxPooling1D(pool_size=2),\n",
        "        layers.Dropout(0.3),\n",
        "        layers.LSTM(64),\n",
        "        layers.Dropout(0.3),\n",
        "        layers.Dense(100, activation='relu'),\n",
        "        layers.Dense(len(le.classes_), activation='softmax')\n",
        "    ])\n",
        "    model.compile(optimizer='adam', loss='sparse_categorical_crossentropy', metrics=['accuracy'])\n",
        "\n",
        "    # Checkpoint Callback\n",
        "    checkpoint_cb = ModelCheckpoint(\n",
        "        filepath=os.path.join(checkpoint_dir, f\"global_aug_factor_{factor}_epoch_{{epoch:02d}}.keras\"),\n",
        "        save_best_only=True, save_weights_only=False, verbose=1\n",
        "    )\n",
        "\n",
        "    # Trainieren\n",
        "    history = model.fit(\n",
        "        X_train_combined, y_train_combined,\n",
        "        validation_data=(X_val, y_val),\n",
        "        epochs=50,\n",
        "        batch_size=64,\n",
        "        callbacks=[checkpoint_cb]\n",
        "    )\n",
        "\n",
        "    # Bestes Modell speichern (letztes oder bestes aus Checkpoints)\n",
        "    model.save(os.path.join(final_model_dir, f\"global_aug_factor_{factor}.keras\"))\n",
        "\n",
        "print(\"\\n✅ Alle Modelle trainiert und gespeichert!\")\n"
      ],
      "metadata": {
        "id": "BUwJqFHdaowg"
      },
      "execution_count": null,
      "outputs": []
    },
    {
      "cell_type": "markdown",
      "source": [
        "#🧾 Zusammenfassung Modeltraining\n",
        "##📊 1. Durchschnittliche Accuracy über alle Sessions:"
      ],
      "metadata": {
        "id": "q-yhvJmXzOjU"
      }
    },
    {
      "cell_type": "code",
      "source": [
        "#📊 1. Durchschnittliche Accuracy über alle Sessions:\n",
        "\n",
        "mean_acc = np.mean(all_accuracies)\n",
        "print(\"\\n📈 Zusammenfassung:\")\n",
        "for i, acc in enumerate(all_accuracies):\n",
        "    print(f\"  Session {i+1}: Accuracy = {acc:.2f}\")\n",
        "print(f\"\\n✅ Durchschnittliche Test-Accuracy über alle Sessions: {mean_acc:.2f}\")\n"
      ],
      "metadata": {
        "id": "5ZKwF6fOy75p"
      },
      "execution_count": null,
      "outputs": []
    },
    {
      "cell_type": "markdown",
      "source": [
        "##📁 2. CSV speichern (falls nicht schon vorhanden):"
      ],
      "metadata": {
        "id": "Evqv6rIczcn0"
      }
    },
    {
      "cell_type": "code",
      "source": [
        "#📁 2. CSV speichern (falls nicht schon vorhanden):\n",
        "\n",
        "import pandas as pd\n",
        "\n",
        "df_summary = pd.DataFrame(accuracy_summary)\n",
        "df_summary['Session'] = [f\"Session_{i+1}\" for i in range(len(all_accuracies))]\n",
        "df_summary.to_csv(\"/content/drive/MyDrive/mtb_project/session_accuracy_report.csv\", index=False)\n",
        "print(\"✅ Bericht gespeichert unter: session_accuracy_report.csv\")\n"
      ],
      "metadata": {
        "id": "1AxzlH2XzXA9"
      },
      "execution_count": null,
      "outputs": []
    },
    {
      "cell_type": "code",
      "source": [
        "os.makedirs(\"/content/drive/MyDrive/mtb_project/reports\", exist_ok=True)\n"
      ],
      "metadata": {
        "id": "VJz6n-8PZWui"
      },
      "execution_count": null,
      "outputs": []
    },
    {
      "cell_type": "markdown",
      "source": [
        "# 🧾 Zusammenfassung nach dem Training:\n",
        "\n",
        "Nach der Schleife kannst du am Ende folgendes hinzufügen, um einen Bericht zu erzeugen:\n",
        "\n",
        "📊 Bonus: CSV speichern (optional)"
      ],
      "metadata": {
        "id": "G6M9hNEyTzn0"
      }
    },
    {
      "cell_type": "code",
      "source": [
        "\n",
        "# Durchschnittliche Accuracy über alle Sessions\n",
        "mean_acc = np.mean(all_accuracies)\n",
        "print(\"\\n📈 Zusammenfassung:\")\n",
        "for i, acc in enumerate(all_accuracies):\n",
        "    print(f\"  Session {i+1}: Accuracy = {acc:.2f}\")\n",
        "print(f\"\\n✅ Durchschnittliche Test-Accuracy über alle Sessions: {mean_acc:.2f}\")\n",
        "\n",
        "\n",
        "\n",
        "#📊 Bonus: CSV speichern (optional)\n",
        "\n",
        "import pandas as pd\n",
        "\n",
        "summary = {'Session': [], 'Accuracy': []}\n",
        "for i, acc in enumerate(all_accuracies):\n",
        "    summary['Session'].append(f\"Session_{i+1}\")\n",
        "    summary['Accuracy'].append(acc)\n",
        "\n",
        "df_summary = pd.DataFrame(summary)\n",
        "df_summary.to_csv(\"session_accuracy_report.csv\", index=False)\n",
        "print(\"📁 Bericht gespeichert als session_accuracy_report.csv\")\n",
        "\n",
        "\n"
      ],
      "metadata": {
        "id": "g9eFJGGxTutz"
      },
      "execution_count": null,
      "outputs": []
    },
    {
      "cell_type": "markdown",
      "source": [
        "#💾 II. Modell speichern & später wieder laden (z. B. nach Training)\n",
        "\n",
        "##🔐 Speichern mit TensorFlow/**Keras**"
      ],
      "metadata": {
        "id": "rbaE9UFeMQ8r"
      }
    },
    {
      "cell_type": "code",
      "source": [
        "# Nach dem Training:\n",
        "#speichert mit timestamp\n",
        "#model.save(\"SenseCap_Eventdetection_Model.keras\")  # speichert nur in colab kurzzeitig\n",
        "import time\n",
        "timestamp = time.strftime(\"%Y%m%d-%H%M%S\")\n",
        "model.save(f\"/content/drive/MyDrive/ML-MTB-Modell/ML-Model_trained/SenseCap_Model_v42_augment_factor2{timestamp}.keras\")\n",
        "\n"
      ],
      "metadata": {
        "id": "9f0wu8rYM2P3"
      },
      "execution_count": null,
      "outputs": []
    },
    {
      "cell_type": "markdown",
      "source": [
        "##🔄 Laden\n",
        "\n",
        "Das speichert das gesamte Modell inkl. Architektur, Gewichten und Optimizer-Zustand –exakt da weitermachen, wo man aufgehört hast."
      ],
      "metadata": {
        "id": "Fe6SLk39NNOz"
      }
    },
    {
      "cell_type": "code",
      "source": [
        "\n",
        "\n",
        "from tensorflow.keras.models import load_model\n",
        "\n",
        "model = load_model(\"/content/drive/MyDrive/ML-MTB-Modell/ML-Model_trained/SenseCap_Eventdetection_Model1.keras\")\n"
      ],
      "metadata": {
        "id": "puTdBnHsNHsC"
      },
      "execution_count": null,
      "outputs": []
    },
    {
      "cell_type": "code",
      "source": [
        "all_accuracies = []\n",
        "\n",
        "for i in range(len(test_sessions_X)):\n",
        "    X_test = test_sessions_X[i]\n",
        "    y_test = test_sessions_y[i]\n",
        "\n",
        "    _, acc = model.evaluate(X_test, y_test, verbose=0)\n",
        "    all_accuracies.append(acc)\n"
      ],
      "metadata": {
        "id": "0FK9HYSaUOP0"
      },
      "execution_count": null,
      "outputs": []
    },
    {
      "cell_type": "code",
      "source": [
        "\n",
        "# Durchschnittliche Accuracy über alle Sessions\n",
        "mean_acc = np.mean(all_accuracies)\n",
        "print(\"\\n📈 Zusammenfassung:\")\n",
        "for i, acc in enumerate(all_accuracies):\n",
        "    print(f\"  Session {i+1}: Accuracy = {acc:.2f}\")\n",
        "print(f\"\\n✅ Durchschnittliche Test-Accuracy über alle Sessions: {mean_acc:.2f}\")\n",
        "\n",
        "\n",
        "\n",
        "#📊 Bonus: CSV speichern (optional)\n",
        "\n",
        "import pandas as pd\n",
        "\n",
        "summary = {'Session': [], 'Accuracy': []}\n",
        "for i, acc in enumerate(all_accuracies):\n",
        "    summary['Session'].append(f\"Session_{i+1}\")\n",
        "    summary['Accuracy'].append(acc)\n",
        "\n",
        "df_summary = pd.DataFrame(summary)\n",
        "df_summary.to_csv(\"session_accuracy_report.csv\", index=False)\n",
        "print(\"📁 Bericht gespeichert als session_accuracy_report.csv\")\n",
        "\n",
        "\n"
      ],
      "metadata": {
        "id": "p3xuxyPOUOsO"
      },
      "execution_count": null,
      "outputs": []
    }
  ]
}