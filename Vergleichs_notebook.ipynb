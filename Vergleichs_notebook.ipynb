{
  "nbformat": 4,
  "nbformat_minor": 0,
  "metadata": {
    "colab": {
      "provenance": [],
      "authorship_tag": "ABX9TyOHR0Vc0OBbUclNEN+Xf6zR",
      "include_colab_link": true
    },
    "kernelspec": {
      "name": "python3",
      "display_name": "Python 3"
    },
    "language_info": {
      "name": "python"
    }
  },
  "cells": [
    {
      "cell_type": "markdown",
      "metadata": {
        "id": "view-in-github",
        "colab_type": "text"
      },
      "source": [
        "<a href=\"https://colab.research.google.com/github/prinzessinmarlenifee/SenseCap/blob/main/Vergleichs_notebook.ipynb\" target=\"_parent\"><img src=\"https://colab.research.google.com/assets/colab-badge.svg\" alt=\"Open In Colab\"/></a>"
      ]
    },
    {
      "cell_type": "code",
      "execution_count": null,
      "metadata": {
        "id": "5APBnatvR5so"
      },
      "outputs": [],
      "source": [
        "# 📊 Vergleichs-Notebook – Augmentierung vs. Original & Modell-Vergleich\n",
        "\n",
        "import os\n",
        "import numpy as np\n",
        "import pandas as pd\n",
        "import matplotlib.pyplot as plt\n",
        "from sklearn.metrics import classification_report, confusion_matrix, ConfusionMatrixDisplay\n",
        "from tensorflow.keras.models import load_model\n",
        "\n",
        "# 🔁 Verschiedene Modelle laden\n",
        "o_model_path = \"/content/drive/MyDrive/mtb_project/final_models_global/global_final_original.keras\"\n",
        "a_model_path = \"/content/drive/MyDrive/mtb_project/final_models_global/global_final_augmented.keras\"\n",
        "\n",
        "model_o = load_model(o_model_path)\n",
        "model_a = load_model(a_model_path)\n",
        "\n",
        "# 📦 Validierungsdaten laden (ohne & mit Augmentierung)\n",
        "# Hier als Beispiel – ersetze durch tatsächliche Datenpfade\n",
        "X_val_o = np.load(\"/content/drive/MyDrive/mtb_project/data/X_val_original.npy\")\n",
        "y_val_o = np.load(\"/content/drive/MyDrive/mtb_project/data/y_val_original.npy\")\n",
        "\n",
        "X_val_a = np.load(\"/content/drive/MyDrive/mtb_project/data/X_val_augmented.npy\")\n",
        "y_val_a = np.load(\"/content/drive/MyDrive/mtb_project/data/y_val_augmented.npy\")\n",
        "\n",
        "# 📈 Modell Original (ohne Augmentierung)\n",
        "y_pred_o = (model_o.predict(X_val_o) >= 0.5).astype(int).flatten()\n",
        "print(\"\\n🔍 Ohne Augmentierung\")\n",
        "print(classification_report(y_val_o, y_pred_o, target_names=[\"Not Action\", \"Action\"]))\n",
        "\n",
        "# 📈 Modell Augmentiert\n",
        "y_pred_a = (model_a.predict(X_val_a) >= 0.5).astype(int).flatten()\n",
        "print(\"\\n🧪 Mit Augmentierung\")\n",
        "print(classification_report(y_val_a, y_pred_a, target_names=[\"Not Action\", \"Action\"]))\n",
        "\n",
        "# 🔍 Vergleich nebeneinander (optional visualisieren)\n",
        "fig, axs = plt.subplots(1, 2, figsize=(12, 5))\n",
        "cm_o = confusion_matrix(y_val_o, y_pred_o)\n",
        "cm_a = confusion_matrix(y_val_a, y_pred_a)\n",
        "\n",
        "ConfusionMatrixDisplay(cm_o, display_labels=[\"Not Action\", \"Action\"]).plot(ax=axs[0], cmap=\"Blues\")\n",
        "axs[0].set_title(\"Ohne Augmentierung\")\n",
        "\n",
        "ConfusionMatrixDisplay(cm_a, display_labels=[\"Not Action\", \"Action\"]).plot(ax=axs[1], cmap=\"Greens\")\n",
        "axs[1].set_title(\"Mit Augmentierung\")\n",
        "\n",
        "plt.tight_layout()\n",
        "plt.show()\n",
        "\n",
        "# 📊 Optional: weitere Modelle vergleichen (z. B. andere Architekturen)\n",
        "# Einfach weitere Modelle laden und ergänzen wie oben\n"
      ]
    }
  ]
}